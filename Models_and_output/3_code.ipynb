{
 "cells": [
  {
   "cell_type": "markdown",
   "metadata": {},
   "source": [
    "### Import libraries"
   ]
  },
  {
   "cell_type": "code",
   "execution_count": 1,
   "metadata": {},
   "outputs": [
    {
     "name": "stderr",
     "output_type": "stream",
     "text": [
      "/usr/lib/python3.5/importlib/_bootstrap_external.py:415: ImportWarning:\n",
      "\n",
      "Not importing directory /home/abhishek/.local/lib/python3.5/site-packages/google: missing __init__\n",
      "\n",
      "/usr/lib/python3.5/importlib/_bootstrap_external.py:415: ImportWarning:\n",
      "\n",
      "Not importing directory /home/abhishek/.local/lib/python3.5/site-packages/mpl_toolkits: missing __init__\n",
      "\n",
      "Using TensorFlow backend.\n",
      "/home/abhishek/.local/lib/python3.5/site-packages/tensorflow/python/framework/ops.py:936: DeprecationWarning:\n",
      "\n",
      "builtin type EagerTensor has no __module__ attribute\n",
      "\n",
      "/home/abhishek/.local/lib/python3.5/site-packages/tensorflow/python/util/tf_inspect.py:75: DeprecationWarning:\n",
      "\n",
      "inspect.getargspec() is deprecated, use inspect.signature() instead\n",
      "\n",
      "/home/abhishek/.local/lib/python3.5/site-packages/tensorflow/python/keras/backend.py:4712: ResourceWarning:\n",
      "\n",
      "unclosed file <_io.TextIOWrapper name='/home/abhishek/.keras/keras.json' mode='r' encoding='UTF-8'>\n",
      "\n"
     ]
    },
    {
     "data": {
      "text/html": [
       "<script>requirejs.config({paths: { 'plotly': ['https://cdn.plot.ly/plotly-latest.min']},});if(!window.Plotly) {{require(['plotly'],function(plotly) {window.Plotly=plotly;});}}</script>"
      ],
      "text/vnd.plotly.v1+html": [
       "<script>requirejs.config({paths: { 'plotly': ['https://cdn.plot.ly/plotly-latest.min']},});if(!window.Plotly) {{require(['plotly'],function(plotly) {window.Plotly=plotly;});}}</script>"
      ]
     },
     "metadata": {},
     "output_type": "display_data"
    }
   ],
   "source": [
    "import numpy as np\n",
    "import pandas as pd\n",
    "import scipy as sp\n",
    "import seaborn as sns\n",
    "import plotly.graph_objs as go\n",
    "import plotly.offline as py\n",
    "import matplotlib.pyplot as plt\n",
    "import plotly.figure_factory as ff\n",
    "from IPython.display import HTML, display, SVG\n",
    "from IPython.core import display as ICD\n",
    "from plotly.offline import init_notebook_mode, iplot\n",
    "\n",
    "import math\n",
    "import keras\n",
    "import tensorflow as tf\n",
    "from keras.models import Sequential\n",
    "from keras.layers import Dense\n",
    "from keras.layers import LSTM\n",
    "from keras.regularizers import L1L2\n",
    "from keras.utils.np_utils import to_categorical\n",
    "from keras.utils.vis_utils import model_to_dot\n",
    "\n",
    "from sklearn.feature_extraction.text import TfidfVectorizer\n",
    "from sklearn.preprocessing import LabelEncoder\n",
    "from sklearn.model_selection import train_test_split\n",
    "from sklearn.preprocessing import MinMaxScaler\n",
    "from sklearn.metrics import mean_squared_error\n",
    "from sklearn.metrics import mean_absolute_error\n",
    "from sklearn.decomposition import PCA\n",
    "from sklearn.linear_model import LinearRegression\n",
    "from sklearn.metrics import mean_squared_error\n",
    "from sklearn.metrics import r2_score\n",
    "from sklearn import svm\n",
    "from sklearn import tree\n",
    "from sklearn import neighbors\n",
    "from sklearn import linear_model\n",
    "\n",
    "import nltk\n",
    "import string\n",
    "from nltk.stem import WordNetLemmatizer, SnowballStemmer\n",
    "\n",
    "import warnings\n",
    "warnings.filterwarnings('ignore')\n",
    "init_notebook_mode(connected=True)"
   ]
  },
  {
   "cell_type": "code",
   "execution_count": 2,
   "metadata": {},
   "outputs": [],
   "source": [
    "seed = 13\n",
    "stemmer = SnowballStemmer(\"english\")\n",
    "lemma = WordNetLemmatizer()\n",
    "\n",
    "le = LabelEncoder()"
   ]
  },
  {
   "cell_type": "code",
   "execution_count": 3,
   "metadata": {},
   "outputs": [],
   "source": [
    "SOURCE_FOLDER = 'dataset/'\n",
    "OUTPUT_FOLDER = 'Models_and_output/'"
   ]
  },
  {
   "cell_type": "code",
   "execution_count": 4,
   "metadata": {},
   "outputs": [],
   "source": [
    "train_data = pd.read_csv(SOURCE_FOLDER + 'train.csv', encoding='ISO-8859-1')\n",
    "test_data = pd.read_csv(SOURCE_FOLDER + 'test.csv', encoding='utf8')\n",
    "test_data = test_data[test_data.columns[1:-1]]"
   ]
  },
  {
   "cell_type": "code",
   "execution_count": 5,
   "metadata": {},
   "outputs": [],
   "source": [
    "train_data = train_data[train_data['TRANS_CONV_TEXT'].notnull()]"
   ]
  },
  {
   "cell_type": "code",
   "execution_count": 6,
   "metadata": {},
   "outputs": [
    {
     "data": {
      "text/plain": [
       "<matplotlib.axes._subplots.AxesSubplot at 0x7f9187eecfd0>"
      ]
     },
     "execution_count": 6,
     "metadata": {},
     "output_type": "execute_result"
    },
    {
     "data": {
      "image/png": "[encoded data removed]",
      "text/plain": [
       "<Figure size 432x288 with 1 Axes>"
      ]
     },
     "metadata": {},
     "output_type": "display_data"
    }
   ],
   "source": [
    "le.fit(train_data.Source)\n",
    "train_source = le.transform(train_data.Source)\n",
    "\n",
    "train_data.Patient_Tag.value_counts().plot('bar')"
   ]
  },
  {
   "cell_type": "code",
   "execution_count": 7,
   "metadata": {},
   "outputs": [],
   "source": [
    "X_train = train_data['TRANS_CONV_TEXT']\n",
    "Y_train = train_data['Patient_Tag']\n",
    "Y_train = to_categorical(Y_train)"
   ]
  },
  {
   "cell_type": "code",
   "execution_count": 8,
   "metadata": {},
   "outputs": [],
   "source": [
    "def preprocess_data(X_train, stemmer, lemma):\n",
    "    preprocessed_data = []\n",
    "    trans = str.maketrans('/(){}', ' ' * 5)\n",
    "    trans_punc = str.maketrans('', '', string.punctuation)\n",
    "\n",
    "    for text in X_train:\n",
    "        text = text.lower().translate(trans)\n",
    "        text = text.translate(trans_punc)\n",
    "        text = [lemma.lemmatize(word) for word in text.split()]\n",
    "        preprocessed_data.append(' '.join(text))\n",
    "\n",
    "    return preprocessed_data"
   ]
  },
  {
   "cell_type": "code",
   "execution_count": 9,
   "metadata": {},
   "outputs": [],
   "source": [
    "preprocessed_data = preprocess_data(X_train, stemmer, lemma)"
   ]
  },
  {
   "cell_type": "code",
   "execution_count": 10,
   "metadata": {},
   "outputs": [
    {
     "data": {
      "text/plain": [
       "TfidfVectorizer(analyzer='word', binary=False, decode_error='strict',\n",
       "        dtype=<class 'numpy.int64'>, encoding='utf-8', input='content',\n",
       "        lowercase=True, max_df=0.95, max_features=1000, min_df=2,\n",
       "        ngram_range=(1, 3), norm='l2', preprocessor=None, smooth_idf=True,\n",
       "        stop_words='english', strip_accents=None, sublinear_tf=False,\n",
       "        token_pattern='(?u)\\\\b\\\\w\\\\w+\\\\b', tokenizer=None, use_idf=True,\n",
       "        vocabulary=None)"
      ]
     },
     "execution_count": 10,
     "metadata": {},
     "output_type": "execute_result"
    }
   ],
   "source": [
    "vectorizer = TfidfVectorizer(max_df=0.95, min_df=2, max_features=1000, stop_words='english', ngram_range=(1, 3))\n",
    "vectorizer.fit(X_train)"
   ]
  },
  {
   "cell_type": "code",
   "execution_count": 11,
   "metadata": {},
   "outputs": [
    {
     "data": {
      "text/plain": [
       "(1156, 1000)"
      ]
     },
     "execution_count": 11,
     "metadata": {},
     "output_type": "execute_result"
    }
   ],
   "source": [
    "X_train = vectorizer.transform(X_train).toarray()\n",
    "X_train.shape"
   ]
  },
  {
   "cell_type": "code",
   "execution_count": 12,
   "metadata": {},
   "outputs": [],
   "source": [
    "X_train = np.insert(X_train, 0, train_source, axis=1)\n",
    "X_train, X_valid, y_train, y_valid = train_test_split(X_train, Y_train, test_size=0.33, random_state=seed)"
   ]
  },
  {
   "cell_type": "code",
   "execution_count": 13,
   "metadata": {},
   "outputs": [
    {
     "data": {
      "text/plain": [
       "0    FORUMS\n",
       "1    FORUMS\n",
       "2      BLOG\n",
       "3    FORUMS\n",
       "4    FORUMS\n",
       "Name: Source, dtype: object"
      ]
     },
     "execution_count": 13,
     "metadata": {},
     "output_type": "execute_result"
    }
   ],
   "source": [
    "train_data.Source.head()"
   ]
  },
  {
   "cell_type": "code",
   "execution_count": 18,
   "metadata": {},
   "outputs": [
    {
     "data": {
      "text/plain": [
       "(774, 1001)"
      ]
     },
     "execution_count": 18,
     "metadata": {},
     "output_type": "execute_result"
    }
   ],
   "source": [
    "X_train.shape"
   ]
  },
  {
   "cell_type": "code",
   "execution_count": 19,
   "metadata": {},
   "outputs": [
    {
     "data": {
      "text/plain": [
       "(382, 1001)"
      ]
     },
     "execution_count": 19,
     "metadata": {},
     "output_type": "execute_result"
    }
   ],
   "source": [
    "X_valid.shape"
   ]
  },
  {
   "cell_type": "code",
   "execution_count": 14,
   "metadata": {},
   "outputs": [],
   "source": [
    "def batch_generator_shuffle(X_data, y_data, batch_size):\n",
    "    samples_per_epoch = X_data.shape[0]\n",
    "    number_of_batches = samples_per_epoch/batch_size\n",
    "    counter=0\n",
    "    index = np.arange(np.shape(y_data)[0])\n",
    "    np.random.shuffle(index)\n",
    "    while 1:\n",
    "        index_batch = index[batch_size*counter:batch_size*(counter+1)]\n",
    "        X_batch = X_data[index_batch,:]\n",
    "        y_batch = y_data[index_batch]\n",
    "        counter += 1\n",
    "        yield X_batch,y_batch\n",
    "        if (counter > number_of_batches):\n",
    "            np.random.shuffle(index)\n",
    "            counter=0"
   ]
  },
  {
   "cell_type": "code",
   "execution_count": 15,
   "metadata": {},
   "outputs": [],
   "source": [
    "def as_keras_metric(method):\n",
    "    import functools\n",
    "    from keras import backend as K\n",
    "    import tensorflow as tf\n",
    "    @functools.wraps(method)\n",
    "    def wrapper(self, args, **kwargs):\n",
    "        \"\"\" Wrapper for turning tensorflow metrics into keras metrics \"\"\"\n",
    "        value, update_op = method(self, args, **kwargs)\n",
    "        K.get_session().run(tf.local_variables_initializer())\n",
    "        with tf.control_dependencies([update_op]):\n",
    "            value = tf.identity(value)\n",
    "        return value\n",
    "    return wrapper\n",
    "\n",
    "@as_keras_metric\n",
    "def auc_pr(y_true, y_pred, curve='PR'):\n",
    "    return tf.metrics.auc(y_true, y_pred, curve=curve)"
   ]
  },
  {
   "cell_type": "code",
   "execution_count": 20,
   "metadata": {},
   "outputs": [],
   "source": [
    "custom_adam = keras.optimizers.Adam(lr=0.005, beta_1=0.9, beta_2=0.999, epsilon=1e-8)\n",
    "\n",
    "model = Sequential()\n",
    "model.add(Dense(128, activation='relu', input_dim=1001))\n",
    "model.add(Dense(64, activation='relu'))\n",
    "model.add(Dense(32, activation='relu'))\n",
    "model.add(Dense(2,\n",
    "                activation='softmax',\n",
    "                kernel_regularizer=L1L2(l1=0.0, l2=0.4)))"
   ]
  },
  {
   "cell_type": "code",
   "execution_count": 21,
   "metadata": {},
   "outputs": [
    {
     "name": "stdout",
     "output_type": "stream",
     "text": [
      "WARNING:tensorflow:Trapezoidal rule is known to produce incorrect PR-AUCs; please switch to \"careful_interpolation\" instead.\n",
      "WARNING:tensorflow:Trapezoidal rule is known to produce incorrect PR-AUCs; please switch to \"careful_interpolation\" instead.\n",
      "Epoch 1/200\n",
      "25/24 [===============================] - 1s 23ms/step - loss: 1.2544 - auc_pr: 0.7852 - acc: 0.7960 - val_loss: 0.7795 - val_auc_pr: 0.8899 - val_acc: 0.7906\n",
      "Epoch 2/200\n",
      "25/24 [===============================] - 0s 7ms/step - loss: 0.4765 - auc_pr: 0.9205 - acc: 0.8974 - val_loss: 0.4471 - val_auc_pr: 0.9348 - val_acc: 0.8586\n",
      "Epoch 3/200\n",
      "25/24 [===============================] - 0s 7ms/step - loss: 0.1829 - auc_pr: 0.9485 - acc: 0.9773 - val_loss: 0.6460 - val_auc_pr: 0.9543 - val_acc: 0.8403\n",
      "Epoch 4/200\n",
      "25/24 [===============================] - 0s 7ms/step - loss: 0.0773 - auc_pr: 0.9581 - acc: 0.9887 - val_loss: 0.4314 - val_auc_pr: 0.9631 - val_acc: 0.8665\n",
      "Epoch 5/200\n",
      "25/24 [===============================] - 0s 7ms/step - loss: 0.0338 - auc_pr: 0.9666 - acc: 0.9975 - val_loss: 0.4901 - val_auc_pr: 0.9690 - val_acc: 0.8560\n",
      "Epoch 6/200\n",
      "25/24 [===============================] - 0s 7ms/step - loss: 0.0223 - auc_pr: 0.9706 - acc: 0.9987 - val_loss: 0.5076 - val_auc_pr: 0.9723 - val_acc: 0.8665\n",
      "Epoch 7/200\n",
      "25/24 [===============================] - 0s 7ms/step - loss: 0.0171 - auc_pr: 0.9737 - acc: 0.9987 - val_loss: 0.4789 - val_auc_pr: 0.9748 - val_acc: 0.8560\n",
      "Epoch 8/200\n",
      "25/24 [===============================] - 0s 7ms/step - loss: 0.0136 - auc_pr: 0.9756 - acc: 0.9987 - val_loss: 0.4778 - val_auc_pr: 0.9765 - val_acc: 0.8665\n",
      "Epoch 9/200\n",
      "25/24 [===============================] - 0s 7ms/step - loss: 0.0109 - auc_pr: 0.9772 - acc: 0.9987 - val_loss: 0.5062 - val_auc_pr: 0.9776 - val_acc: 0.8665\n",
      "Epoch 10/200\n",
      "25/24 [===============================] - 0s 7ms/step - loss: 0.0082 - auc_pr: 0.9782 - acc: 0.9987 - val_loss: 0.5436 - val_auc_pr: 0.9787 - val_acc: 0.8534\n",
      "Epoch 11/200\n",
      "25/24 [===============================] - 0s 7ms/step - loss: 0.0063 - auc_pr: 0.9790 - acc: 1.0000 - val_loss: 0.5688 - val_auc_pr: 0.9793 - val_acc: 0.8613\n",
      "Epoch 12/200\n",
      "25/24 [===============================] - 0s 7ms/step - loss: 0.0050 - auc_pr: 0.9796 - acc: 1.0000 - val_loss: 0.5553 - val_auc_pr: 0.9798 - val_acc: 0.8586\n",
      "Epoch 13/200\n",
      "25/24 [===============================] - 0s 7ms/step - loss: 0.0043 - auc_pr: 0.9801 - acc: 1.0000 - val_loss: 0.5569 - val_auc_pr: 0.9803 - val_acc: 0.8639\n",
      "Epoch 14/200\n",
      "25/24 [===============================] - 0s 11ms/step - loss: 0.0044 - auc_pr: 0.9806 - acc: 1.0000 - val_loss: 0.6601 - val_auc_pr: 0.9805 - val_acc: 0.8586\n",
      "Epoch 15/200\n",
      "25/24 [===============================] - 0s 10ms/step - loss: 0.0048 - auc_pr: 0.9807 - acc: 1.0000 - val_loss: 0.6539 - val_auc_pr: 0.9807 - val_acc: 0.8534\n",
      "Epoch 16/200\n",
      "25/24 [===============================] - 0s 7ms/step - loss: 0.0032 - auc_pr: 0.9808 - acc: 1.0000 - val_loss: 0.6286 - val_auc_pr: 0.9809 - val_acc: 0.8613\n",
      "Epoch 17/200\n",
      "25/24 [===============================] - 0s 11ms/step - loss: 0.0026 - auc_pr: 0.9810 - acc: 1.0000 - val_loss: 0.6367 - val_auc_pr: 0.9810 - val_acc: 0.8534\n",
      "Epoch 18/200\n",
      "25/24 [===============================] - 0s 9ms/step - loss: 0.0023 - auc_pr: 0.9812 - acc: 1.0000 - val_loss: 0.5916 - val_auc_pr: 0.9812 - val_acc: 0.8639\n",
      "Epoch 19/200\n",
      "25/24 [===============================] - 0s 7ms/step - loss: 0.0021 - auc_pr: 0.9814 - acc: 1.0000 - val_loss: 0.6218 - val_auc_pr: 0.9814 - val_acc: 0.8560\n",
      "Epoch 20/200\n",
      "25/24 [===============================] - 0s 7ms/step - loss: 0.0019 - auc_pr: 0.9815 - acc: 1.0000 - val_loss: 0.5972 - val_auc_pr: 0.9816 - val_acc: 0.8691\n",
      "Epoch 21/200\n",
      "25/24 [===============================] - 0s 7ms/step - loss: 0.0017 - auc_pr: 0.9817 - acc: 1.0000 - val_loss: 0.6064 - val_auc_pr: 0.9817 - val_acc: 0.8586\n",
      "Epoch 22/200\n",
      "25/24 [===============================] - 0s 8ms/step - loss: 0.0016 - auc_pr: 0.9818 - acc: 1.0000 - val_loss: 0.5984 - val_auc_pr: 0.9819 - val_acc: 0.8560\n",
      "Epoch 23/200\n",
      "25/24 [===============================] - 0s 8ms/step - loss: 0.0014 - auc_pr: 0.9820 - acc: 1.0000 - val_loss: 0.6702 - val_auc_pr: 0.9820 - val_acc: 0.8508\n",
      "Epoch 24/200\n",
      "25/24 [===============================] - 0s 8ms/step - loss: 0.0014 - auc_pr: 0.9820 - acc: 1.0000 - val_loss: 0.6376 - val_auc_pr: 0.9820 - val_acc: 0.8691\n",
      "Epoch 25/200\n",
      "25/24 [===============================] - 0s 9ms/step - loss: 0.0013 - auc_pr: 0.9821 - acc: 1.0000 - val_loss: 0.5630 - val_auc_pr: 0.9822 - val_acc: 0.8586\n",
      "Epoch 26/200\n",
      "25/24 [===============================] - 0s 8ms/step - loss: 0.0012 - auc_pr: 0.9823 - acc: 1.0000 - val_loss: 0.6656 - val_auc_pr: 0.9822 - val_acc: 0.8560\n",
      "Epoch 27/200\n",
      "25/24 [===============================] - 0s 7ms/step - loss: 0.0011 - auc_pr: 0.9823 - acc: 1.0000 - val_loss: 0.7195 - val_auc_pr: 0.9822 - val_acc: 0.8560\n",
      "Epoch 28/200\n",
      "25/24 [===============================] - 0s 7ms/step - loss: 0.0010 - auc_pr: 0.9822 - acc: 1.0000 - val_loss: 0.5901 - val_auc_pr: 0.9822 - val_acc: 0.8639\n",
      "Epoch 29/200\n",
      "25/24 [===============================] - 0s 8ms/step - loss: 9.9290e-04 - auc_pr: 0.9823 - acc: 1.0000 - val_loss: 0.6865 - val_auc_pr: 0.9822 - val_acc: 0.8560\n",
      "Epoch 30/200\n",
      "25/24 [===============================] - 0s 7ms/step - loss: 9.1347e-04 - auc_pr: 0.9823 - acc: 1.0000 - val_loss: 0.6232 - val_auc_pr: 0.9823 - val_acc: 0.8560\n",
      "Epoch 31/200\n",
      "25/24 [===============================] - 0s 7ms/step - loss: 8.6281e-04 - auc_pr: 0.9823 - acc: 1.0000 - val_loss: 0.7142 - val_auc_pr: 0.9823 - val_acc: 0.8534\n",
      "Epoch 32/200\n",
      "25/24 [===============================] - 0s 7ms/step - loss: 8.3157e-04 - auc_pr: 0.9823 - acc: 1.0000 - val_loss: 0.5899 - val_auc_pr: 0.9824 - val_acc: 0.8560\n",
      "Epoch 33/200\n",
      "25/24 [===============================] - 0s 7ms/step - loss: 8.1360e-04 - auc_pr: 0.9825 - acc: 1.0000 - val_loss: 0.6753 - val_auc_pr: 0.9824 - val_acc: 0.8534\n",
      "Epoch 34/200\n",
      "25/24 [===============================] - 0s 7ms/step - loss: 7.8325e-04 - auc_pr: 0.9825 - acc: 1.0000 - val_loss: 0.8152 - val_auc_pr: 0.9824 - val_acc: 0.8586\n",
      "Epoch 35/200\n",
      "25/24 [===============================] - 0s 7ms/step - loss: 7.6862e-04 - auc_pr: 0.9824 - acc: 1.0000 - val_loss: 0.6741 - val_auc_pr: 0.9824 - val_acc: 0.8586\n",
      "Epoch 36/200\n",
      "25/24 [===============================] - 0s 7ms/step - loss: 6.8778e-04 - auc_pr: 0.9824 - acc: 1.0000 - val_loss: 0.7336 - val_auc_pr: 0.9824 - val_acc: 0.8534\n",
      "Epoch 37/200\n",
      "25/24 [===============================] - 0s 7ms/step - loss: 6.6748e-04 - auc_pr: 0.9824 - acc: 1.0000 - val_loss: 0.7860 - val_auc_pr: 0.9824 - val_acc: 0.8613\n",
      "Epoch 38/200\n",
      "25/24 [===============================] - 0s 7ms/step - loss: 6.1768e-04 - auc_pr: 0.9824 - acc: 1.0000 - val_loss: 0.7230 - val_auc_pr: 0.9823 - val_acc: 0.8586\n",
      "Epoch 39/200\n",
      "25/24 [===============================] - 0s 6ms/step - loss: 6.4699e-04 - auc_pr: 0.9824 - acc: 1.0000 - val_loss: 0.8642 - val_auc_pr: 0.9823 - val_acc: 0.8377\n",
      "Epoch 40/200\n",
      "25/24 [===============================] - 0s 6ms/step - loss: 6.5227e-04 - auc_pr: 0.9823 - acc: 1.0000 - val_loss: 0.6982 - val_auc_pr: 0.9823 - val_acc: 0.8534\n",
      "Epoch 41/200\n",
      "25/24 [===============================] - 0s 7ms/step - loss: 6.0224e-04 - auc_pr: 0.9823 - acc: 1.0000 - val_loss: 0.6550 - val_auc_pr: 0.9823 - val_acc: 0.8586\n",
      "Epoch 42/200\n",
      "25/24 [===============================] - 0s 7ms/step - loss: 4.8212e-04 - auc_pr: 0.9823 - acc: 1.0000 - val_loss: 0.6367 - val_auc_pr: 0.9823 - val_acc: 0.8534\n",
      "Epoch 43/200\n",
      "25/24 [===============================] - 0s 7ms/step - loss: 4.7531e-04 - auc_pr: 0.9823 - acc: 1.0000 - val_loss: 0.7133 - val_auc_pr: 0.9823 - val_acc: 0.8586\n",
      "Epoch 44/200\n",
      "25/24 [===============================] - 0s 7ms/step - loss: 4.3784e-04 - auc_pr: 0.9823 - acc: 1.0000 - val_loss: 0.7533 - val_auc_pr: 0.9823 - val_acc: 0.8586\n",
      "Epoch 45/200\n",
      "25/24 [===============================] - 0s 7ms/step - loss: 4.1664e-04 - auc_pr: 0.9823 - acc: 1.0000 - val_loss: 0.6428 - val_auc_pr: 0.9823 - val_acc: 0.8613\n",
      "Epoch 46/200\n",
      "25/24 [===============================] - 0s 6ms/step - loss: 4.1154e-04 - auc_pr: 0.9824 - acc: 1.0000 - val_loss: 0.7610 - val_auc_pr: 0.9823 - val_acc: 0.8534\n",
      "Epoch 47/200\n"
     ]
    },
    {
     "name": "stdout",
     "output_type": "stream",
     "text": [
      "25/24 [===============================] - 0s 6ms/step - loss: 3.9212e-04 - auc_pr: 0.9823 - acc: 1.0000 - val_loss: 0.6970 - val_auc_pr: 0.9823 - val_acc: 0.8613\n",
      "Epoch 48/200\n",
      "25/24 [===============================] - 0s 6ms/step - loss: 5.1677e-04 - auc_pr: 0.9824 - acc: 1.0000 - val_loss: 1.3243 - val_auc_pr: 0.9822 - val_acc: 0.8298\n",
      "Epoch 49/200\n",
      "25/24 [===============================] - 0s 6ms/step - loss: 5.0137e-04 - auc_pr: 0.9821 - acc: 1.0000 - val_loss: 0.9288 - val_auc_pr: 0.9820 - val_acc: 0.8429\n",
      "Epoch 50/200\n",
      "25/24 [===============================] - 0s 6ms/step - loss: 4.2377e-04 - auc_pr: 0.9820 - acc: 1.0000 - val_loss: 0.6824 - val_auc_pr: 0.9820 - val_acc: 0.8613\n",
      "Epoch 51/200\n",
      "25/24 [===============================] - 0s 6ms/step - loss: 4.3846e-04 - auc_pr: 0.9820 - acc: 1.0000 - val_loss: 0.7928 - val_auc_pr: 0.9820 - val_acc: 0.8534\n",
      "Epoch 52/200\n",
      "25/24 [===============================] - 0s 6ms/step - loss: 3.5481e-04 - auc_pr: 0.9820 - acc: 1.0000 - val_loss: 0.7281 - val_auc_pr: 0.9820 - val_acc: 0.8534\n",
      "Epoch 53/200\n",
      "25/24 [===============================] - 0s 6ms/step - loss: 3.8043e-04 - auc_pr: 0.9820 - acc: 1.0000 - val_loss: 0.7413 - val_auc_pr: 0.9820 - val_acc: 0.8613\n",
      "Epoch 54/200\n",
      "25/24 [===============================] - 0s 6ms/step - loss: 2.9015e-04 - auc_pr: 0.9819 - acc: 1.0000 - val_loss: 0.8184 - val_auc_pr: 0.9819 - val_acc: 0.8534\n",
      "Epoch 55/200\n",
      "25/24 [===============================] - 0s 6ms/step - loss: 3.5360e-04 - auc_pr: 0.9819 - acc: 1.0000 - val_loss: 0.9657 - val_auc_pr: 0.9819 - val_acc: 0.8560\n",
      "Epoch 56/200\n",
      "25/24 [===============================] - 0s 6ms/step - loss: 3.4141e-04 - auc_pr: 0.9819 - acc: 1.0000 - val_loss: 0.9265 - val_auc_pr: 0.9818 - val_acc: 0.8586\n",
      "Epoch 57/200\n",
      "25/24 [===============================] - 0s 6ms/step - loss: 2.6443e-04 - auc_pr: 0.9818 - acc: 1.0000 - val_loss: 0.7526 - val_auc_pr: 0.9818 - val_acc: 0.8508\n",
      "Epoch 58/200\n",
      "25/24 [===============================] - 0s 6ms/step - loss: 2.6385e-04 - auc_pr: 0.9818 - acc: 1.0000 - val_loss: 0.7369 - val_auc_pr: 0.9818 - val_acc: 0.8586\n",
      "Epoch 59/200\n",
      "25/24 [===============================] - 0s 6ms/step - loss: 2.7929e-04 - auc_pr: 0.9818 - acc: 1.0000 - val_loss: 0.7246 - val_auc_pr: 0.9818 - val_acc: 0.8586\n",
      "Epoch 60/200\n",
      "25/24 [===============================] - 0s 6ms/step - loss: 2.6455e-04 - auc_pr: 0.9818 - acc: 1.0000 - val_loss: 0.7883 - val_auc_pr: 0.9818 - val_acc: 0.8613\n",
      "Epoch 61/200\n",
      "25/24 [===============================] - 0s 7ms/step - loss: 2.3598e-04 - auc_pr: 0.9818 - acc: 1.0000 - val_loss: 0.8002 - val_auc_pr: 0.9817 - val_acc: 0.8613\n",
      "Epoch 62/200\n",
      "25/24 [===============================] - 0s 6ms/step - loss: 2.5737e-04 - auc_pr: 0.9817 - acc: 1.0000 - val_loss: 0.9044 - val_auc_pr: 0.9817 - val_acc: 0.8508\n",
      "Epoch 63/200\n",
      "25/24 [===============================] - 0s 6ms/step - loss: 3.3976e-04 - auc_pr: 0.9817 - acc: 1.0000 - val_loss: 1.1383 - val_auc_pr: 0.9816 - val_acc: 0.8429\n",
      "Epoch 64/200\n",
      "25/24 [===============================] - 0s 6ms/step - loss: 2.2369e-04 - auc_pr: 0.9816 - acc: 1.0000 - val_loss: 0.7797 - val_auc_pr: 0.9816 - val_acc: 0.8560\n",
      "Epoch 65/200\n",
      "25/24 [===============================] - 0s 6ms/step - loss: 2.0608e-04 - auc_pr: 0.9816 - acc: 1.0000 - val_loss: 0.7625 - val_auc_pr: 0.9815 - val_acc: 0.8586\n",
      "Epoch 66/200\n",
      "25/24 [===============================] - 0s 6ms/step - loss: 2.2318e-04 - auc_pr: 0.9815 - acc: 1.0000 - val_loss: 1.0812 - val_auc_pr: 0.9815 - val_acc: 0.8455\n",
      "Epoch 67/200\n",
      "25/24 [===============================] - 0s 6ms/step - loss: 2.4757e-04 - auc_pr: 0.9814 - acc: 1.0000 - val_loss: 0.8157 - val_auc_pr: 0.9814 - val_acc: 0.8613\n",
      "Epoch 68/200\n",
      "25/24 [===============================] - 0s 6ms/step - loss: 2.2966e-04 - auc_pr: 0.9814 - acc: 1.0000 - val_loss: 0.8977 - val_auc_pr: 0.9814 - val_acc: 0.8508\n",
      "Epoch 69/200\n",
      "25/24 [===============================] - 0s 6ms/step - loss: 2.4496e-04 - auc_pr: 0.9814 - acc: 1.0000 - val_loss: 0.8484 - val_auc_pr: 0.9814 - val_acc: 0.8508\n",
      "Epoch 70/200\n",
      "25/24 [===============================] - 0s 6ms/step - loss: 3.2399e-04 - auc_pr: 0.9814 - acc: 1.0000 - val_loss: 0.9263 - val_auc_pr: 0.9813 - val_acc: 0.8560\n",
      "Epoch 71/200\n",
      "25/24 [===============================] - 0s 6ms/step - loss: 2.3767e-04 - auc_pr: 0.9813 - acc: 1.0000 - val_loss: 0.8772 - val_auc_pr: 0.9812 - val_acc: 0.8560\n",
      "Epoch 72/200\n",
      "25/24 [===============================] - 0s 6ms/step - loss: 1.8253e-04 - auc_pr: 0.9812 - acc: 1.0000 - val_loss: 0.9798 - val_auc_pr: 0.9812 - val_acc: 0.8377\n",
      "Epoch 73/200\n",
      "25/24 [===============================] - 0s 6ms/step - loss: 1.8958e-04 - auc_pr: 0.9812 - acc: 1.0000 - val_loss: 0.9099 - val_auc_pr: 0.9811 - val_acc: 0.8586\n",
      "Epoch 74/200\n",
      "25/24 [===============================] - 0s 6ms/step - loss: 1.6722e-04 - auc_pr: 0.9811 - acc: 1.0000 - val_loss: 1.0176 - val_auc_pr: 0.9810 - val_acc: 0.8429\n",
      "Epoch 75/200\n",
      "25/24 [===============================] - 0s 6ms/step - loss: 1.8212e-04 - auc_pr: 0.9810 - acc: 1.0000 - val_loss: 0.9331 - val_auc_pr: 0.9810 - val_acc: 0.8429\n",
      "Epoch 76/200\n",
      "25/24 [===============================] - 0s 6ms/step - loss: 3.3854e-04 - auc_pr: 0.9810 - acc: 1.0000 - val_loss: 1.5127 - val_auc_pr: 0.9809 - val_acc: 0.8455\n",
      "Epoch 77/200\n",
      "25/24 [===============================] - 0s 6ms/step - loss: 2.9612e-04 - auc_pr: 0.9808 - acc: 1.0000 - val_loss: 1.0338 - val_auc_pr: 0.9808 - val_acc: 0.8455\n",
      "Epoch 78/200\n",
      "25/24 [===============================] - 0s 6ms/step - loss: 1.5455e-04 - auc_pr: 0.9808 - acc: 1.0000 - val_loss: 1.0979 - val_auc_pr: 0.9807 - val_acc: 0.8455\n",
      "Epoch 79/200\n",
      "25/24 [===============================] - 0s 6ms/step - loss: 1.8173e-04 - auc_pr: 0.9807 - acc: 1.0000 - val_loss: 0.9566 - val_auc_pr: 0.9807 - val_acc: 0.8455\n",
      "Epoch 80/200\n",
      "25/24 [===============================] - 0s 6ms/step - loss: 1.4393e-04 - auc_pr: 0.9807 - acc: 1.0000 - val_loss: 0.9288 - val_auc_pr: 0.9806 - val_acc: 0.8455\n",
      "Epoch 81/200\n",
      "25/24 [===============================] - 0s 7ms/step - loss: 1.5461e-04 - auc_pr: 0.9806 - acc: 1.0000 - val_loss: 0.9038 - val_auc_pr: 0.9806 - val_acc: 0.8403\n",
      "Epoch 82/200\n",
      "25/24 [===============================] - 0s 6ms/step - loss: 1.6300e-04 - auc_pr: 0.9806 - acc: 1.0000 - val_loss: 0.9644 - val_auc_pr: 0.9805 - val_acc: 0.8377\n",
      "Epoch 83/200\n",
      "25/24 [===============================] - 0s 6ms/step - loss: 1.3567e-04 - auc_pr: 0.9805 - acc: 1.0000 - val_loss: 0.9290 - val_auc_pr: 0.9805 - val_acc: 0.8377\n",
      "Epoch 84/200\n",
      "25/24 [===============================] - 0s 6ms/step - loss: 1.6381e-04 - auc_pr: 0.9805 - acc: 1.0000 - val_loss: 1.2319 - val_auc_pr: 0.9805 - val_acc: 0.8455\n",
      "Epoch 85/200\n",
      "25/24 [===============================] - 0s 6ms/step - loss: 1.5272e-04 - auc_pr: 0.9804 - acc: 1.0000 - val_loss: 1.0852 - val_auc_pr: 0.9804 - val_acc: 0.8586\n",
      "Epoch 86/200\n",
      "25/24 [===============================] - 0s 6ms/step - loss: 1.3231e-04 - auc_pr: 0.9804 - acc: 1.0000 - val_loss: 0.8339 - val_auc_pr: 0.9803 - val_acc: 0.8613\n",
      "Epoch 87/200\n",
      "25/24 [===============================] - 0s 7ms/step - loss: 1.3007e-04 - auc_pr: 0.9803 - acc: 1.0000 - val_loss: 0.7793 - val_auc_pr: 0.9803 - val_acc: 0.8586\n",
      "Epoch 88/200\n",
      "25/24 [===============================] - 0s 6ms/step - loss: 1.7297e-04 - auc_pr: 0.9803 - acc: 1.0000 - val_loss: 0.8919 - val_auc_pr: 0.9803 - val_acc: 0.8455\n",
      "Epoch 89/200\n",
      "25/24 [===============================] - 0s 7ms/step - loss: 1.3865e-04 - auc_pr: 0.9803 - acc: 1.0000 - val_loss: 0.9839 - val_auc_pr: 0.9803 - val_acc: 0.8455\n",
      "Epoch 90/200\n",
      "25/24 [===============================] - 0s 6ms/step - loss: 1.3226e-04 - auc_pr: 0.9803 - acc: 1.0000 - val_loss: 1.1970 - val_auc_pr: 0.9802 - val_acc: 0.8482\n",
      "Epoch 91/200\n",
      "25/24 [===============================] - 0s 6ms/step - loss: 1.5584e-04 - auc_pr: 0.9802 - acc: 1.0000 - val_loss: 0.8680 - val_auc_pr: 0.9802 - val_acc: 0.8455\n",
      "Epoch 92/200\n",
      "25/24 [===============================] - 0s 6ms/step - loss: 1.1699e-04 - auc_pr: 0.9802 - acc: 1.0000 - val_loss: 1.0146 - val_auc_pr: 0.9802 - val_acc: 0.8455\n",
      "Epoch 93/200\n",
      "25/24 [===============================] - 0s 6ms/step - loss: 1.1122e-04 - auc_pr: 0.9801 - acc: 1.0000 - val_loss: 0.8169 - val_auc_pr: 0.9801 - val_acc: 0.8560\n"
     ]
    },
    {
     "name": "stdout",
     "output_type": "stream",
     "text": [
      "Epoch 94/200\n",
      "25/24 [===============================] - 0s 6ms/step - loss: 1.1084e-04 - auc_pr: 0.9801 - acc: 1.0000 - val_loss: 1.1902 - val_auc_pr: 0.9801 - val_acc: 0.8482\n",
      "Epoch 95/200\n",
      "25/24 [===============================] - 0s 6ms/step - loss: 1.9938e-04 - auc_pr: 0.9801 - acc: 1.0000 - val_loss: 2.0851 - val_auc_pr: 0.9800 - val_acc: 0.8220\n",
      "Epoch 96/200\n",
      "25/24 [===============================] - 0s 6ms/step - loss: 0.0010 - auc_pr: 0.9799 - acc: 1.0000 - val_loss: 2.1452 - val_auc_pr: 0.9798 - val_acc: 0.8272\n",
      "Epoch 97/200\n",
      "25/24 [===============================] - 0s 6ms/step - loss: 0.0664 - auc_pr: 0.9797 - acc: 0.9962 - val_loss: 2.5903 - val_auc_pr: 0.9795 - val_acc: 0.8325\n",
      "Epoch 98/200\n",
      "25/24 [===============================] - 0s 6ms/step - loss: 0.5138 - auc_pr: 0.9793 - acc: 0.9712 - val_loss: 2.9048 - val_auc_pr: 0.9791 - val_acc: 0.8220\n",
      "Epoch 99/200\n",
      "25/24 [===============================] - 0s 7ms/step - loss: 0.4637 - auc_pr: 0.9789 - acc: 0.9750 - val_loss: 3.0670 - val_auc_pr: 0.9787 - val_acc: 0.8115\n",
      "Epoch 100/200\n",
      "25/24 [===============================] - 0s 6ms/step - loss: 0.3132 - auc_pr: 0.9785 - acc: 0.9825 - val_loss: 2.6629 - val_auc_pr: 0.9783 - val_acc: 0.8325\n",
      "Epoch 101/200\n",
      "25/24 [===============================] - 0s 6ms/step - loss: 0.2115 - auc_pr: 0.9782 - acc: 0.9862 - val_loss: 2.5627 - val_auc_pr: 0.9780 - val_acc: 0.8351\n",
      "Epoch 102/200\n",
      "25/24 [===============================] - 0s 6ms/step - loss: 0.1404 - auc_pr: 0.9779 - acc: 0.9925 - val_loss: 2.5328 - val_auc_pr: 0.9778 - val_acc: 0.8403\n",
      "Epoch 103/200\n",
      "25/24 [===============================] - 0s 6ms/step - loss: 0.1520 - auc_pr: 0.9777 - acc: 0.9887 - val_loss: 2.6313 - val_auc_pr: 0.9775 - val_acc: 0.8246\n",
      "Epoch 104/200\n",
      "25/24 [===============================] - 0s 6ms/step - loss: 0.0951 - auc_pr: 0.9774 - acc: 0.9937 - val_loss: 2.5704 - val_auc_pr: 0.9773 - val_acc: 0.8351\n",
      "Epoch 105/200\n",
      "25/24 [===============================] - 0s 6ms/step - loss: 0.0993 - auc_pr: 0.9772 - acc: 0.9925 - val_loss: 2.5747 - val_auc_pr: 0.9771 - val_acc: 0.8220\n",
      "Epoch 106/200\n",
      "25/24 [===============================] - 0s 6ms/step - loss: 0.0656 - auc_pr: 0.9769 - acc: 0.9950 - val_loss: 2.2820 - val_auc_pr: 0.9768 - val_acc: 0.8351\n",
      "Epoch 107/200\n",
      "25/24 [===============================] - 0s 6ms/step - loss: 0.0167 - auc_pr: 0.9768 - acc: 0.9975 - val_loss: 2.0385 - val_auc_pr: 0.9767 - val_acc: 0.8272\n",
      "Epoch 108/200\n",
      "25/24 [===============================] - 0s 6ms/step - loss: 0.0104 - auc_pr: 0.9766 - acc: 0.9987 - val_loss: 1.9495 - val_auc_pr: 0.9765 - val_acc: 0.8246\n",
      "Epoch 109/200\n",
      "25/24 [===============================] - 0s 6ms/step - loss: 0.0028 - auc_pr: 0.9765 - acc: 1.0000 - val_loss: 2.0435 - val_auc_pr: 0.9764 - val_acc: 0.8325\n",
      "Epoch 110/200\n",
      "25/24 [===============================] - 0s 6ms/step - loss: 0.0019 - auc_pr: 0.9763 - acc: 1.0000 - val_loss: 1.9444 - val_auc_pr: 0.9762 - val_acc: 0.8325\n",
      "Epoch 111/200\n",
      "25/24 [===============================] - 0s 6ms/step - loss: 0.0014 - auc_pr: 0.9762 - acc: 1.0000 - val_loss: 1.8356 - val_auc_pr: 0.9761 - val_acc: 0.8325\n",
      "Epoch 112/200\n",
      "25/24 [===============================] - 0s 6ms/step - loss: 0.0011 - auc_pr: 0.9760 - acc: 1.0000 - val_loss: 1.7460 - val_auc_pr: 0.9760 - val_acc: 0.8325\n",
      "Epoch 113/200\n",
      "25/24 [===============================] - 0s 6ms/step - loss: 8.5029e-04 - auc_pr: 0.9759 - acc: 1.0000 - val_loss: 1.6578 - val_auc_pr: 0.9758 - val_acc: 0.8325\n",
      "Epoch 114/200\n",
      "25/24 [===============================] - 0s 6ms/step - loss: 6.8282e-04 - auc_pr: 0.9758 - acc: 1.0000 - val_loss: 1.5609 - val_auc_pr: 0.9757 - val_acc: 0.8351\n",
      "Epoch 115/200\n",
      "25/24 [===============================] - 0s 6ms/step - loss: 5.5841e-04 - auc_pr: 0.9757 - acc: 1.0000 - val_loss: 1.4804 - val_auc_pr: 0.9756 - val_acc: 0.8298\n",
      "Epoch 116/200\n",
      "25/24 [===============================] - 0s 6ms/step - loss: 4.7371e-04 - auc_pr: 0.9756 - acc: 1.0000 - val_loss: 1.4090 - val_auc_pr: 0.9755 - val_acc: 0.8298\n",
      "Epoch 117/200\n",
      "25/24 [===============================] - 0s 7ms/step - loss: 4.1633e-04 - auc_pr: 0.9755 - acc: 1.0000 - val_loss: 1.3734 - val_auc_pr: 0.9755 - val_acc: 0.8298\n",
      "Epoch 118/200\n",
      "25/24 [===============================] - 0s 6ms/step - loss: 3.7829e-04 - auc_pr: 0.9754 - acc: 1.0000 - val_loss: 1.3362 - val_auc_pr: 0.9754 - val_acc: 0.8351\n",
      "Epoch 119/200\n",
      "25/24 [===============================] - 0s 6ms/step - loss: 3.4956e-04 - auc_pr: 0.9753 - acc: 1.0000 - val_loss: 1.3349 - val_auc_pr: 0.9753 - val_acc: 0.8377\n",
      "Epoch 120/200\n",
      "25/24 [===============================] - 0s 6ms/step - loss: 3.3076e-04 - auc_pr: 0.9753 - acc: 1.0000 - val_loss: 1.3383 - val_auc_pr: 0.9752 - val_acc: 0.8377\n",
      "Epoch 121/200\n",
      "25/24 [===============================] - 0s 6ms/step - loss: 3.0783e-04 - auc_pr: 0.9752 - acc: 1.0000 - val_loss: 1.3057 - val_auc_pr: 0.9751 - val_acc: 0.8377\n",
      "Epoch 122/200\n",
      "25/24 [===============================] - 0s 6ms/step - loss: 2.9650e-04 - auc_pr: 0.9751 - acc: 1.0000 - val_loss: 1.3317 - val_auc_pr: 0.9751 - val_acc: 0.8377\n",
      "Epoch 123/200\n",
      "25/24 [===============================] - 0s 6ms/step - loss: 2.7597e-04 - auc_pr: 0.9751 - acc: 1.0000 - val_loss: 1.3294 - val_auc_pr: 0.9750 - val_acc: 0.8351\n",
      "Epoch 124/200\n",
      "25/24 [===============================] - 0s 6ms/step - loss: 2.6365e-04 - auc_pr: 0.9750 - acc: 1.0000 - val_loss: 1.3048 - val_auc_pr: 0.9750 - val_acc: 0.8351\n",
      "Epoch 125/200\n",
      "25/24 [===============================] - 0s 6ms/step - loss: 2.4720e-04 - auc_pr: 0.9749 - acc: 1.0000 - val_loss: 1.3497 - val_auc_pr: 0.9749 - val_acc: 0.8377\n",
      "Epoch 126/200\n",
      "25/24 [===============================] - 0s 6ms/step - loss: 2.3450e-04 - auc_pr: 0.9749 - acc: 1.0000 - val_loss: 1.3017 - val_auc_pr: 0.9749 - val_acc: 0.8351\n",
      "Epoch 127/200\n",
      "25/24 [===============================] - 0s 7ms/step - loss: 2.2299e-04 - auc_pr: 0.9748 - acc: 1.0000 - val_loss: 1.2775 - val_auc_pr: 0.9748 - val_acc: 0.8351\n",
      "Epoch 128/200\n",
      "25/24 [===============================] - 0s 6ms/step - loss: 2.1897e-04 - auc_pr: 0.9748 - acc: 1.0000 - val_loss: 1.2791 - val_auc_pr: 0.9748 - val_acc: 0.8351\n",
      "Epoch 129/200\n",
      "25/24 [===============================] - 0s 6ms/step - loss: 2.0795e-04 - auc_pr: 0.9748 - acc: 1.0000 - val_loss: 1.4207 - val_auc_pr: 0.9747 - val_acc: 0.8377\n",
      "Epoch 130/200\n",
      "25/24 [===============================] - 0s 6ms/step - loss: 2.0409e-04 - auc_pr: 0.9747 - acc: 1.0000 - val_loss: 1.3430 - val_auc_pr: 0.9747 - val_acc: 0.8351\n",
      "Epoch 131/200\n",
      "25/24 [===============================] - 0s 6ms/step - loss: 2.2152e-04 - auc_pr: 0.9747 - acc: 1.0000 - val_loss: 1.3392 - val_auc_pr: 0.9746 - val_acc: 0.8351\n",
      "Epoch 132/200\n",
      "25/24 [===============================] - 0s 6ms/step - loss: 2.0975e-04 - auc_pr: 0.9746 - acc: 1.0000 - val_loss: 1.3786 - val_auc_pr: 0.9746 - val_acc: 0.8298\n",
      "Epoch 133/200\n",
      "25/24 [===============================] - 0s 6ms/step - loss: 1.8802e-04 - auc_pr: 0.9746 - acc: 1.0000 - val_loss: 1.3296 - val_auc_pr: 0.9746 - val_acc: 0.8377\n",
      "Epoch 134/200\n",
      "25/24 [===============================] - 0s 6ms/step - loss: 1.8226e-04 - auc_pr: 0.9746 - acc: 1.0000 - val_loss: 1.4085 - val_auc_pr: 0.9745 - val_acc: 0.8403\n",
      "Epoch 135/200\n",
      "25/24 [===============================] - 0s 6ms/step - loss: 1.8289e-04 - auc_pr: 0.9745 - acc: 1.0000 - val_loss: 1.3644 - val_auc_pr: 0.9745 - val_acc: 0.8351\n",
      "Epoch 136/200\n",
      "25/24 [===============================] - 0s 7ms/step - loss: 1.7277e-04 - auc_pr: 0.9745 - acc: 1.0000 - val_loss: 1.2528 - val_auc_pr: 0.9745 - val_acc: 0.8325\n",
      "Epoch 137/200\n",
      "25/24 [===============================] - 0s 7ms/step - loss: 1.9957e-04 - auc_pr: 0.9744 - acc: 1.0000 - val_loss: 1.3700 - val_auc_pr: 0.9744 - val_acc: 0.8403\n",
      "Epoch 138/200\n",
      "25/24 [===============================] - 0s 6ms/step - loss: 1.6686e-04 - auc_pr: 0.9744 - acc: 1.0000 - val_loss: 1.2892 - val_auc_pr: 0.9744 - val_acc: 0.8351\n",
      "Epoch 139/200\n",
      "25/24 [===============================] - 0s 6ms/step - loss: 1.7085e-04 - auc_pr: 0.9744 - acc: 1.0000 - val_loss: 1.4156 - val_auc_pr: 0.9744 - val_acc: 0.8403\n",
      "Epoch 140/200\n",
      "25/24 [===============================] - 0s 7ms/step - loss: 1.7561e-04 - auc_pr: 0.9743 - acc: 1.0000 - val_loss: 1.4400 - val_auc_pr: 0.9743 - val_acc: 0.8351\n"
     ]
    },
    {
     "name": "stdout",
     "output_type": "stream",
     "text": [
      "Epoch 141/200\n",
      "25/24 [===============================] - 0s 6ms/step - loss: 3.5091e-04 - auc_pr: 0.9743 - acc: 1.0000 - val_loss: 1.5780 - val_auc_pr: 0.9743 - val_acc: 0.8429\n",
      "Epoch 142/200\n",
      "25/24 [===============================] - 0s 6ms/step - loss: 2.3762e-04 - auc_pr: 0.9742 - acc: 1.0000 - val_loss: 1.4659 - val_auc_pr: 0.9742 - val_acc: 0.8325\n",
      "Epoch 143/200\n",
      "25/24 [===============================] - 0s 6ms/step - loss: 1.7957e-04 - auc_pr: 0.9742 - acc: 1.0000 - val_loss: 1.2785 - val_auc_pr: 0.9742 - val_acc: 0.8377\n",
      "Epoch 144/200\n",
      "25/24 [===============================] - 0s 6ms/step - loss: 1.5623e-04 - auc_pr: 0.9742 - acc: 1.0000 - val_loss: 1.2988 - val_auc_pr: 0.9741 - val_acc: 0.8377\n",
      "Epoch 145/200\n",
      "25/24 [===============================] - 0s 6ms/step - loss: 1.5652e-04 - auc_pr: 0.9741 - acc: 1.0000 - val_loss: 1.3253 - val_auc_pr: 0.9741 - val_acc: 0.8377\n",
      "Epoch 146/200\n",
      "25/24 [===============================] - 0s 6ms/step - loss: 1.5231e-04 - auc_pr: 0.9741 - acc: 1.0000 - val_loss: 1.2467 - val_auc_pr: 0.9741 - val_acc: 0.8325\n",
      "Epoch 147/200\n",
      "25/24 [===============================] - 0s 6ms/step - loss: 1.5247e-04 - auc_pr: 0.9741 - acc: 1.0000 - val_loss: 1.3253 - val_auc_pr: 0.9741 - val_acc: 0.8377\n",
      "Epoch 148/200\n",
      "25/24 [===============================] - 0s 6ms/step - loss: 1.5030e-04 - auc_pr: 0.9741 - acc: 1.0000 - val_loss: 1.2914 - val_auc_pr: 0.9741 - val_acc: 0.8377\n",
      "Epoch 149/200\n",
      "25/24 [===============================] - 0s 6ms/step - loss: 1.4441e-04 - auc_pr: 0.9741 - acc: 1.0000 - val_loss: 1.2764 - val_auc_pr: 0.9741 - val_acc: 0.8377\n",
      "Epoch 150/200\n",
      "25/24 [===============================] - 0s 6ms/step - loss: 1.6100e-04 - auc_pr: 0.9740 - acc: 1.0000 - val_loss: 1.4492 - val_auc_pr: 0.9740 - val_acc: 0.8325\n",
      "Epoch 151/200\n",
      "25/24 [===============================] - 0s 6ms/step - loss: 1.7232e-04 - auc_pr: 0.9740 - acc: 1.0000 - val_loss: 1.2136 - val_auc_pr: 0.9740 - val_acc: 0.8220\n",
      "Epoch 152/200\n",
      "25/24 [===============================] - 0s 6ms/step - loss: 2.7250e-04 - auc_pr: 0.9740 - acc: 1.0000 - val_loss: 1.5835 - val_auc_pr: 0.9740 - val_acc: 0.8325\n",
      "Epoch 153/200\n",
      "25/24 [===============================] - 0s 7ms/step - loss: 1.6591e-04 - auc_pr: 0.9740 - acc: 1.0000 - val_loss: 1.2405 - val_auc_pr: 0.9740 - val_acc: 0.8325\n",
      "Epoch 154/200\n",
      "25/24 [===============================] - 0s 6ms/step - loss: 1.4282e-04 - auc_pr: 0.9740 - acc: 1.0000 - val_loss: 1.3510 - val_auc_pr: 0.9739 - val_acc: 0.8403\n",
      "Epoch 155/200\n",
      "25/24 [===============================] - 0s 6ms/step - loss: 1.3779e-04 - auc_pr: 0.9739 - acc: 1.0000 - val_loss: 1.3187 - val_auc_pr: 0.9739 - val_acc: 0.8377\n",
      "Epoch 156/200\n",
      "25/24 [===============================] - 0s 6ms/step - loss: 1.4798e-04 - auc_pr: 0.9739 - acc: 1.0000 - val_loss: 1.2726 - val_auc_pr: 0.9739 - val_acc: 0.8351\n",
      "Epoch 157/200\n",
      "25/24 [===============================] - 0s 6ms/step - loss: 1.8248e-04 - auc_pr: 0.9739 - acc: 1.0000 - val_loss: 1.6124 - val_auc_pr: 0.9739 - val_acc: 0.8325\n",
      "Epoch 158/200\n",
      "25/24 [===============================] - 0s 6ms/step - loss: 1.9895e-04 - auc_pr: 0.9739 - acc: 1.0000 - val_loss: 1.3179 - val_auc_pr: 0.9738 - val_acc: 0.8403\n",
      "Epoch 159/200\n",
      "25/24 [===============================] - 0s 6ms/step - loss: 1.5868e-04 - auc_pr: 0.9738 - acc: 1.0000 - val_loss: 1.4491 - val_auc_pr: 0.9738 - val_acc: 0.8429\n",
      "Epoch 160/200\n",
      "25/24 [===============================] - 0s 6ms/step - loss: 1.3557e-04 - auc_pr: 0.9738 - acc: 1.0000 - val_loss: 1.2151 - val_auc_pr: 0.9738 - val_acc: 0.8403\n",
      "Epoch 161/200\n",
      "25/24 [===============================] - 0s 6ms/step - loss: 1.3325e-04 - auc_pr: 0.9738 - acc: 1.0000 - val_loss: 1.2179 - val_auc_pr: 0.9738 - val_acc: 0.8351\n",
      "Epoch 162/200\n",
      "25/24 [===============================] - 0s 6ms/step - loss: 1.3170e-04 - auc_pr: 0.9738 - acc: 1.0000 - val_loss: 1.3710 - val_auc_pr: 0.9738 - val_acc: 0.8403\n",
      "Epoch 163/200\n",
      "25/24 [===============================] - 0s 10ms/step - loss: 1.3343e-04 - auc_pr: 0.9738 - acc: 1.0000 - val_loss: 1.3972 - val_auc_pr: 0.9737 - val_acc: 0.8403\n",
      "Epoch 164/200\n",
      "25/24 [===============================] - 0s 11ms/step - loss: 1.5013e-04 - auc_pr: 0.9737 - acc: 1.0000 - val_loss: 1.5002 - val_auc_pr: 0.9737 - val_acc: 0.8246\n",
      "Epoch 165/200\n",
      "25/24 [===============================] - 0s 11ms/step - loss: 1.5957e-04 - auc_pr: 0.9737 - acc: 1.0000 - val_loss: 1.3332 - val_auc_pr: 0.9737 - val_acc: 0.8351\n",
      "Epoch 166/200\n",
      "25/24 [===============================] - 0s 7ms/step - loss: 1.4725e-04 - auc_pr: 0.9737 - acc: 1.0000 - val_loss: 1.3395 - val_auc_pr: 0.9736 - val_acc: 0.8403\n",
      "Epoch 167/200\n",
      "25/24 [===============================] - 0s 7ms/step - loss: 1.2787e-04 - auc_pr: 0.9736 - acc: 1.0000 - val_loss: 1.2895 - val_auc_pr: 0.9736 - val_acc: 0.8455\n",
      "Epoch 168/200\n",
      "25/24 [===============================] - 0s 6ms/step - loss: 1.3453e-04 - auc_pr: 0.9736 - acc: 1.0000 - val_loss: 1.4126 - val_auc_pr: 0.9736 - val_acc: 0.8403\n",
      "Epoch 169/200\n",
      "25/24 [===============================] - 0s 10ms/step - loss: 1.2643e-04 - auc_pr: 0.9736 - acc: 1.0000 - val_loss: 1.2745 - val_auc_pr: 0.9736 - val_acc: 0.8403\n",
      "Epoch 170/200\n",
      "25/24 [===============================] - 0s 8ms/step - loss: 1.1991e-04 - auc_pr: 0.9736 - acc: 1.0000 - val_loss: 1.2774 - val_auc_pr: 0.9735 - val_acc: 0.8325\n",
      "Epoch 171/200\n",
      "25/24 [===============================] - 0s 9ms/step - loss: 1.2324e-04 - auc_pr: 0.9735 - acc: 1.0000 - val_loss: 1.3436 - val_auc_pr: 0.9735 - val_acc: 0.8298\n",
      "Epoch 172/200\n",
      "25/24 [===============================] - 0s 11ms/step - loss: 1.6367e-04 - auc_pr: 0.9735 - acc: 1.0000 - val_loss: 1.3879 - val_auc_pr: 0.9735 - val_acc: 0.8298\n",
      "Epoch 173/200\n",
      "25/24 [===============================] - 0s 8ms/step - loss: 3.6666e-04 - auc_pr: 0.9735 - acc: 1.0000 - val_loss: 1.8266 - val_auc_pr: 0.9735 - val_acc: 0.8272\n",
      "Epoch 174/200\n",
      "25/24 [===============================] - 0s 9ms/step - loss: 0.0011 - auc_pr: 0.9734 - acc: 1.0000 - val_loss: 2.3568 - val_auc_pr: 0.9734 - val_acc: 0.8272\n",
      "Epoch 175/200\n",
      "25/24 [===============================] - 0s 9ms/step - loss: 5.6877e-04 - auc_pr: 0.9734 - acc: 1.0000 - val_loss: 1.6509 - val_auc_pr: 0.9733 - val_acc: 0.8272\n",
      "Epoch 176/200\n",
      "25/24 [===============================] - 0s 8ms/step - loss: 2.0145e-04 - auc_pr: 0.9733 - acc: 1.0000 - val_loss: 1.5609 - val_auc_pr: 0.9733 - val_acc: 0.8377\n",
      "Epoch 177/200\n",
      "25/24 [===============================] - 0s 11ms/step - loss: 1.5077e-04 - auc_pr: 0.9733 - acc: 1.0000 - val_loss: 1.5542 - val_auc_pr: 0.9732 - val_acc: 0.8351\n",
      "Epoch 178/200\n",
      "25/24 [===============================] - 0s 12ms/step - loss: 1.3074e-04 - auc_pr: 0.9732 - acc: 1.0000 - val_loss: 1.3839 - val_auc_pr: 0.9732 - val_acc: 0.8325\n",
      "Epoch 179/200\n",
      "25/24 [===============================] - 0s 7ms/step - loss: 1.2984e-04 - auc_pr: 0.9732 - acc: 1.0000 - val_loss: 1.4692 - val_auc_pr: 0.9732 - val_acc: 0.8325\n",
      "Epoch 180/200\n",
      "25/24 [===============================] - 0s 7ms/step - loss: 1.5204e-04 - auc_pr: 0.9732 - acc: 1.0000 - val_loss: 1.4226 - val_auc_pr: 0.9731 - val_acc: 0.8325\n",
      "Epoch 181/200\n",
      "25/24 [===============================] - 0s 7ms/step - loss: 1.2991e-04 - auc_pr: 0.9731 - acc: 1.0000 - val_loss: 1.5509 - val_auc_pr: 0.9731 - val_acc: 0.8272\n",
      "Epoch 182/200\n",
      "25/24 [===============================] - 0s 6ms/step - loss: 1.2375e-04 - auc_pr: 0.9731 - acc: 1.0000 - val_loss: 1.2506 - val_auc_pr: 0.9731 - val_acc: 0.8325\n",
      "Epoch 183/200\n",
      "25/24 [===============================] - 0s 7ms/step - loss: 1.5272e-04 - auc_pr: 0.9731 - acc: 1.0000 - val_loss: 1.5653 - val_auc_pr: 0.9731 - val_acc: 0.8325\n",
      "Epoch 184/200\n",
      "25/24 [===============================] - 0s 6ms/step - loss: 1.2408e-04 - auc_pr: 0.9730 - acc: 1.0000 - val_loss: 1.3945 - val_auc_pr: 0.9730 - val_acc: 0.8325\n",
      "Epoch 185/200\n",
      "25/24 [===============================] - 0s 7ms/step - loss: 1.1789e-04 - auc_pr: 0.9730 - acc: 1.0000 - val_loss: 1.1694 - val_auc_pr: 0.9730 - val_acc: 0.8298\n",
      "Epoch 186/200\n",
      "25/24 [===============================] - 0s 6ms/step - loss: 1.2810e-04 - auc_pr: 0.9730 - acc: 1.0000 - val_loss: 1.4133 - val_auc_pr: 0.9730 - val_acc: 0.8325\n",
      "Epoch 187/200\n"
     ]
    },
    {
     "name": "stdout",
     "output_type": "stream",
     "text": [
      "25/24 [===============================] - 0s 6ms/step - loss: 1.3241e-04 - auc_pr: 0.9730 - acc: 1.0000 - val_loss: 1.4933 - val_auc_pr: 0.9729 - val_acc: 0.8246\n",
      "Epoch 188/200\n",
      "25/24 [===============================] - 0s 6ms/step - loss: 2.1890e-04 - auc_pr: 0.9729 - acc: 1.0000 - val_loss: 1.5126 - val_auc_pr: 0.9729 - val_acc: 0.8325\n",
      "Epoch 189/200\n",
      "25/24 [===============================] - 0s 6ms/step - loss: 1.3539e-04 - auc_pr: 0.9729 - acc: 1.0000 - val_loss: 1.5407 - val_auc_pr: 0.9729 - val_acc: 0.8272\n",
      "Epoch 190/200\n",
      "25/24 [===============================] - 0s 7ms/step - loss: 1.2422e-04 - auc_pr: 0.9729 - acc: 1.0000 - val_loss: 1.4531 - val_auc_pr: 0.9728 - val_acc: 0.8325\n",
      "Epoch 191/200\n",
      "25/24 [===============================] - 0s 6ms/step - loss: 1.2251e-04 - auc_pr: 0.9728 - acc: 1.0000 - val_loss: 1.3777 - val_auc_pr: 0.9728 - val_acc: 0.8246\n",
      "Epoch 192/200\n",
      "25/24 [===============================] - 0s 6ms/step - loss: 1.2730e-04 - auc_pr: 0.9728 - acc: 1.0000 - val_loss: 1.4261 - val_auc_pr: 0.9728 - val_acc: 0.8325\n",
      "Epoch 193/200\n",
      "25/24 [===============================] - 0s 6ms/step - loss: 1.2916e-04 - auc_pr: 0.9728 - acc: 1.0000 - val_loss: 1.3764 - val_auc_pr: 0.9728 - val_acc: 0.8351\n",
      "Epoch 194/200\n",
      "25/24 [===============================] - 0s 6ms/step - loss: 1.1700e-04 - auc_pr: 0.9728 - acc: 1.0000 - val_loss: 1.2612 - val_auc_pr: 0.9728 - val_acc: 0.8298\n",
      "Epoch 195/200\n",
      "25/24 [===============================] - 0s 6ms/step - loss: 1.1456e-04 - auc_pr: 0.9728 - acc: 1.0000 - val_loss: 1.3256 - val_auc_pr: 0.9727 - val_acc: 0.8351\n",
      "Epoch 196/200\n",
      "25/24 [===============================] - 0s 7ms/step - loss: 1.1095e-04 - auc_pr: 0.9727 - acc: 1.0000 - val_loss: 1.1407 - val_auc_pr: 0.9727 - val_acc: 0.8298\n",
      "Epoch 197/200\n",
      "25/24 [===============================] - 0s 6ms/step - loss: 1.2556e-04 - auc_pr: 0.9727 - acc: 1.0000 - val_loss: 1.3376 - val_auc_pr: 0.9727 - val_acc: 0.8325\n",
      "Epoch 198/200\n",
      "25/24 [===============================] - 0s 7ms/step - loss: 1.3881e-04 - auc_pr: 0.9727 - acc: 1.0000 - val_loss: 1.4772 - val_auc_pr: 0.9727 - val_acc: 0.8246\n",
      "Epoch 199/200\n",
      "25/24 [===============================] - 0s 7ms/step - loss: 1.1456e-04 - auc_pr: 0.9727 - acc: 1.0000 - val_loss: 1.3884 - val_auc_pr: 0.9727 - val_acc: 0.8298\n",
      "Epoch 200/200\n",
      "25/24 [===============================] - 0s 6ms/step - loss: 1.0690e-04 - auc_pr: 0.9727 - acc: 1.0000 - val_loss: 1.2987 - val_auc_pr: 0.9726 - val_acc: 0.8325\n",
      "382/382 [==============================] - 0s 59us/step\n",
      "\n",
      "\n",
      "[1.2986561496844466, 0.9725257539000186, 0.8324607317360284]\n"
     ]
    }
   ],
   "source": [
    "precision = as_keras_metric(tf.metrics.precision)\n",
    "recall = as_keras_metric(tf.metrics.recall)\n",
    "\n",
    "model.compile(optimizer=custom_adam,\n",
    "              loss='categorical_crossentropy',\n",
    "              metrics=[auc_pr, 'accuracy'])\n",
    "\n",
    "model.fit_generator(generator=batch_generator_shuffle(X_train, y_train, 32),\n",
    "                      epochs=200, validation_data=(X_valid, y_valid),\n",
    "                      steps_per_epoch=X_train.shape[0] / 32)\n",
    "\n",
    "scores = model.evaluate(X_valid, y_valid)\n",
    "print ('\\n')\n",
    "print (scores)"
   ]
  },
  {
   "cell_type": "markdown",
   "metadata": {},
   "source": [
    "1 - 7: val_loss: 0.3521 - val_auc_pr: 0.9775 - val_acc: 0.8922\n",
    "2 - 200: val_loss: 0.6366 - val_auc_pr: 0.9851 - val_acc: 0.8889\n",
    "3 - val_loss: 1.3443 - val_auc_pr: 0.9714 - val_acc: 0.8246\n",
    "\n",
    "[0.626494295846403, 0.983139782170065, 0.8856209134743884]"
   ]
  },
  {
   "cell_type": "code",
   "execution_count": 22,
   "metadata": {},
   "outputs": [],
   "source": [
    "X_test = test_data['TRANS_CONV_TEXT']\n",
    "X_test = preprocess_data(X_test, stemmer, lemma)\n",
    "X_test = vectorizer.transform(X_test).toarray()\n",
    "\n",
    "test_source = le.transform(test_data.Source)\n",
    "X_test = np.insert(X_test, 0, test_source, axis=1)"
   ]
  },
  {
   "cell_type": "code",
   "execution_count": 23,
   "metadata": {},
   "outputs": [
    {
     "data": {
      "text/plain": [
       "(571, 1001)"
      ]
     },
     "execution_count": 23,
     "metadata": {},
     "output_type": "execute_result"
    }
   ],
   "source": [
    "X_test.shape"
   ]
  },
  {
   "cell_type": "code",
   "execution_count": 24,
   "metadata": {},
   "outputs": [
    {
     "data": {
      "text/plain": [
       "(382,)"
      ]
     },
     "execution_count": 24,
     "metadata": {},
     "output_type": "execute_result"
    }
   ],
   "source": [
    "train_source[774:].shape"
   ]
  },
  {
   "cell_type": "code",
   "execution_count": 25,
   "metadata": {},
   "outputs": [],
   "source": [
    "output = model.predict(X_test, 32)\n",
    "\n",
    "patient_tag = np.argmax(output, axis=1)\n",
    "index = list(range(1, len(output)+1))\n",
    "test_data_df = pd.DataFrame({'Index': index,'Patient_Tag': patient_tag}).set_index('Index')\n",
    "test_data_df.to_csv('output.csv', columns=['Patient_Tag'] )"
   ]
  },
  {
   "cell_type": "code",
   "execution_count": 26,
   "metadata": {},
   "outputs": [
    {
     "data": {
      "text/plain": [
       "0    470\n",
       "1    101\n",
       "Name: Patient_Tag, dtype: int64"
      ]
     },
     "execution_count": 26,
     "metadata": {},
     "output_type": "execute_result"
    }
   ],
   "source": [
    "test_data_df.Patient_Tag.value_counts()"
   ]
  },
  {
   "cell_type": "code",
   "execution_count": 27,
   "metadata": {},
   "outputs": [],
   "source": [
    "# model_json = model.to_json()\n",
    "# with open(OUTPUT_FOLDER + \"3_model.json\", \"w\") as json_file:\n",
    "#     json_file.write(model_json)\n",
    "\n",
    "# model.save_weights(OUTPUT_FOLDER + \"3_model.h5\")"
   ]
  },
  {
   "cell_type": "code",
   "execution_count": 32,
   "metadata": {},
   "outputs": [
    {
     "data": {
      "text/plain": [
       "0    494\n",
       "1     77\n",
       "Name: Patient_Tag, dtype: int64"
      ]
     },
     "execution_count": 32,
     "metadata": {},
     "output_type": "execute_result"
    }
   ],
   "source": [
    "out = pd.read_csv('Models_and_output/1_output_84_06305.csv')\n",
    "out.Patient_Tag.value_counts()"
   ]
  },
  {
   "cell_type": "code",
   "execution_count": null,
   "metadata": {},
   "outputs": [],
   "source": []
  }
 ],
 "metadata": {
  "kernelspec": {
   "display_name": "Python 3",
   "language": "python",
   "name": "python3"
  },
  "language_info": {
   "codemirror_mode": {
    "name": "ipython",
    "version": 3
   },
   "file_extension": ".py",
   "mimetype": "text/x-python",
   "name": "python",
   "nbconvert_exporter": "python",
   "pygments_lexer": "ipython3",
   "version": "3.5.2"
  }
 },
 "nbformat": 4,
 "nbformat_minor": 2
}
