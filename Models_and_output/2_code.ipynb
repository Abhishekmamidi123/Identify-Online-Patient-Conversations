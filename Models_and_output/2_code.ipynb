{
 "cells": [
  {
   "cell_type": "markdown",
   "metadata": {},
   "source": [
    "### Import libraries"
   ]
  },
  {
   "cell_type": "code",
   "execution_count": 207,
   "metadata": {},
   "outputs": [
    {
     "data": {
      "text/html": [
       "<script>requirejs.config({paths: { 'plotly': ['https://cdn.plot.ly/plotly-latest.min']},});if(!window.Plotly) {{require(['plotly'],function(plotly) {window.Plotly=plotly;});}}</script>"
      ],
      "text/vnd.plotly.v1+html": [
       "<script>requirejs.config({paths: { 'plotly': ['https://cdn.plot.ly/plotly-latest.min']},});if(!window.Plotly) {{require(['plotly'],function(plotly) {window.Plotly=plotly;});}}</script>"
      ]
     },
     "metadata": {},
     "output_type": "display_data"
    }
   ],
   "source": [
    "import numpy as np\n",
    "import pandas as pd\n",
    "import scipy as sp\n",
    "import seaborn as sns\n",
    "import plotly.graph_objs as go\n",
    "import plotly.offline as py\n",
    "import matplotlib.pyplot as plt\n",
    "import plotly.figure_factory as ff\n",
    "from IPython.display import HTML, display, SVG\n",
    "from IPython.core import display as ICD\n",
    "from plotly.offline import init_notebook_mode, iplot\n",
    "\n",
    "import math\n",
    "import keras\n",
    "import tensorflow as tf\n",
    "from keras.models import Sequential\n",
    "from keras.layers import Dense\n",
    "from keras.layers import LSTM\n",
    "from keras.regularizers import L1L2\n",
    "from keras.utils.np_utils import to_categorical\n",
    "from keras.utils.vis_utils import model_to_dot\n",
    "\n",
    "from sklearn.feature_extraction.text import TfidfVectorizer\n",
    "from sklearn.model_selection import train_test_split\n",
    "from sklearn.preprocessing import MinMaxScaler\n",
    "from sklearn.metrics import mean_squared_error\n",
    "from sklearn.metrics import mean_absolute_error\n",
    "from sklearn.decomposition import PCA\n",
    "from sklearn.linear_model import LinearRegression\n",
    "from sklearn.metrics import mean_squared_error\n",
    "from sklearn.metrics import r2_score\n",
    "from sklearn import svm\n",
    "from sklearn import tree\n",
    "from sklearn import neighbors\n",
    "from sklearn import linear_model\n",
    "\n",
    "import nltk\n",
    "import string\n",
    "from nltk.stem import WordNetLemmatizer, SnowballStemmer\n",
    "\n",
    "import warnings\n",
    "warnings.filterwarnings('ignore')\n",
    "init_notebook_mode(connected=True)"
   ]
  },
  {
   "cell_type": "code",
   "execution_count": 208,
   "metadata": {},
   "outputs": [],
   "source": [
    "seed = 13\n",
    "stemmer = SnowballStemmer(\"english\")\n",
    "lemma = WordNetLemmatizer()"
   ]
  },
  {
   "cell_type": "code",
   "execution_count": 209,
   "metadata": {},
   "outputs": [],
   "source": [
    "SOURCE_FOLDER = 'dataset/'\n",
    "OUTPUT_FOLDER = 'Models_and_output/'"
   ]
  },
  {
   "cell_type": "code",
   "execution_count": 227,
   "metadata": {},
   "outputs": [],
   "source": [
    "train_data = pd.read_csv(SOURCE_FOLDER + 'train.csv', encoding='ISO-8859-1')\n",
    "test_data = pd.read_csv(SOURCE_FOLDER + 'test.csv', encoding='utf8')\n",
    "test_data = test_data[test_data.columns[1:-1]]"
   ]
  },
  {
   "cell_type": "code",
   "execution_count": 228,
   "metadata": {},
   "outputs": [],
   "source": [
    "train_data = train_data[train_data['TRANS_CONV_TEXT'].notnull()]"
   ]
  },
  {
   "cell_type": "code",
   "execution_count": 230,
   "metadata": {},
   "outputs": [
    {
     "data": {
      "text/plain": [
       "<matplotlib.axes._subplots.AxesSubplot at 0x7fa5653ab9b0>"
      ]
     },
     "execution_count": 230,
     "metadata": {},
     "output_type": "execute_result"
    },
    {
     "data": {
      "image/png": "[encoded data removed]",
      "text/plain": [
       "<Figure size 432x288 with 1 Axes>"
      ]
     },
     "metadata": {},
     "output_type": "display_data"
    }
   ],
   "source": [
    "train_data.Patient_Tag.value_counts().plot('bar')"
   ]
  },
  {
   "cell_type": "code",
   "execution_count": 231,
   "metadata": {},
   "outputs": [],
   "source": [
    "X_train = train_data['TRANS_CONV_TEXT']\n",
    "Y_train = train_data['Patient_Tag']\n",
    "Y_train = to_categorical(Y_train)"
   ]
  },
  {
   "cell_type": "code",
   "execution_count": 233,
   "metadata": {},
   "outputs": [],
   "source": [
    "def preprocess_data(X_train, stemmer, lemma):\n",
    "    preprocessed_data = []\n",
    "    trans = str.maketrans('/(){}', ' ' * 5)\n",
    "    trans_punc = str.maketrans('', '', string.punctuation)\n",
    "\n",
    "    for text in X_train:\n",
    "        text = text.lower().translate(trans)\n",
    "        text = text.translate(trans_punc)\n",
    "        text = [lemma.lemmatize(word) for word in text.split()]\n",
    "        preprocessed_data.append(' '.join(text))\n",
    "\n",
    "    return preprocessed_data"
   ]
  },
  {
   "cell_type": "code",
   "execution_count": 234,
   "metadata": {},
   "outputs": [],
   "source": [
    "preprocessed_data = preprocess_data(X_train, stemmer, lemma)"
   ]
  },
  {
   "cell_type": "code",
   "execution_count": 235,
   "metadata": {},
   "outputs": [
    {
     "data": {
      "text/plain": [
       "TfidfVectorizer(analyzer='word', binary=False, decode_error='strict',\n",
       "        dtype=<class 'numpy.int64'>, encoding='utf-8', input='content',\n",
       "        lowercase=True, max_df=0.95, max_features=1000, min_df=2,\n",
       "        ngram_range=(1, 3), norm='l2', preprocessor=None, smooth_idf=True,\n",
       "        stop_words='english', strip_accents=None, sublinear_tf=False,\n",
       "        token_pattern='(?u)\\\\b\\\\w\\\\w+\\\\b', tokenizer=None, use_idf=True,\n",
       "        vocabulary=None)"
      ]
     },
     "execution_count": 235,
     "metadata": {},
     "output_type": "execute_result"
    }
   ],
   "source": [
    "vectorizer = TfidfVectorizer(max_df=0.95, min_df=2, max_features=1000, stop_words='english', ngram_range=(1, 3))\n",
    "vectorizer.fit(X_train)"
   ]
  },
  {
   "cell_type": "code",
   "execution_count": 236,
   "metadata": {},
   "outputs": [
    {
     "data": {
      "text/plain": [
       "(1156, 1000)"
      ]
     },
     "execution_count": 236,
     "metadata": {},
     "output_type": "execute_result"
    }
   ],
   "source": [
    "X_train = vectorizer.transform(X_train).toarray()\n",
    "X_train.shape"
   ]
  },
  {
   "cell_type": "code",
   "execution_count": 237,
   "metadata": {},
   "outputs": [],
   "source": [
    "X_train, X_valid, y_train, y_valid = train_test_split(X_train, Y_train, test_size=0.33, random_state=seed)"
   ]
  },
  {
   "cell_type": "code",
   "execution_count": 238,
   "metadata": {},
   "outputs": [
    {
     "data": {
      "text/plain": [
       "(774, 1000)"
      ]
     },
     "execution_count": 238,
     "metadata": {},
     "output_type": "execute_result"
    }
   ],
   "source": [
    "X_train.shape"
   ]
  },
  {
   "cell_type": "code",
   "execution_count": 239,
   "metadata": {},
   "outputs": [
    {
     "data": {
      "text/plain": [
       "(382, 1000)"
      ]
     },
     "execution_count": 239,
     "metadata": {},
     "output_type": "execute_result"
    }
   ],
   "source": [
    "X_valid.shape"
   ]
  },
  {
   "cell_type": "code",
   "execution_count": 240,
   "metadata": {},
   "outputs": [],
   "source": [
    "def batch_generator_shuffle(X_data, y_data, batch_size):\n",
    "    samples_per_epoch = X_data.shape[0]\n",
    "    number_of_batches = samples_per_epoch/batch_size\n",
    "    counter=0\n",
    "    index = np.arange(np.shape(y_data)[0])\n",
    "    np.random.shuffle(index)\n",
    "    while 1:\n",
    "        index_batch = index[batch_size*counter:batch_size*(counter+1)]\n",
    "        X_batch = X_data[index_batch,:]\n",
    "        y_batch = y_data[index_batch]\n",
    "        counter += 1\n",
    "        yield X_batch,y_batch\n",
    "        if (counter > number_of_batches):\n",
    "            np.random.shuffle(index)\n",
    "            counter=0"
   ]
  },
  {
   "cell_type": "code",
   "execution_count": 241,
   "metadata": {},
   "outputs": [],
   "source": [
    "def as_keras_metric(method):\n",
    "    import functools\n",
    "    from keras import backend as K\n",
    "    import tensorflow as tf\n",
    "    @functools.wraps(method)\n",
    "    def wrapper(self, args, **kwargs):\n",
    "        \"\"\" Wrapper for turning tensorflow metrics into keras metrics \"\"\"\n",
    "        value, update_op = method(self, args, **kwargs)\n",
    "        K.get_session().run(tf.local_variables_initializer())\n",
    "        with tf.control_dependencies([update_op]):\n",
    "            value = tf.identity(value)\n",
    "        return value\n",
    "    return wrapper\n",
    "\n",
    "@as_keras_metric\n",
    "def auc_pr(y_true, y_pred, curve='PR'):\n",
    "    return tf.metrics.auc(y_true, y_pred, curve=curve)"
   ]
  },
  {
   "cell_type": "code",
   "execution_count": 242,
   "metadata": {},
   "outputs": [],
   "source": [
    "custom_adam = keras.optimizers.Adam(lr=0.005, beta_1=0.9, beta_2=0.999, epsilon=1e-8)\n",
    "\n",
    "model = Sequential()\n",
    "model.add(Dense(128, activation='relu', input_dim=1000))\n",
    "model.add(Dense(128, activation='relu'))\n",
    "model.add(Dense(2,\n",
    "                activation='softmax',\n",
    "                kernel_regularizer=L1L2(l1=0.0, l2=0.4)))"
   ]
  },
  {
   "cell_type": "code",
   "execution_count": 243,
   "metadata": {},
   "outputs": [
    {
     "name": "stdout",
     "output_type": "stream",
     "text": [
      "WARNING:tensorflow:Trapezoidal rule is known to produce incorrect PR-AUCs; please switch to \"careful_interpolation\" instead.\n",
      "WARNING:tensorflow:Trapezoidal rule is known to produce incorrect PR-AUCs; please switch to \"careful_interpolation\" instead.\n",
      "Epoch 1/200\n",
      "25/24 [===============================] - 1s 56ms/step - loss: 1.2092 - auc_pr: 0.7923 - acc: 0.7743 - val_loss: 0.5349 - val_auc_pr: 0.8924 - val_acc: 0.7906\n",
      "Epoch 2/200\n",
      "25/24 [===============================] - 0s 8ms/step - loss: 0.3200 - auc_pr: 0.9142 - acc: 0.8246 - val_loss: 0.3347 - val_auc_pr: 0.9275 - val_acc: 0.8298\n",
      "Epoch 3/200\n",
      "25/24 [===============================] - 0s 8ms/step - loss: 0.1917 - auc_pr: 0.9380 - acc: 0.9675 - val_loss: 0.3565 - val_auc_pr: 0.9463 - val_acc: 0.8482\n",
      "Epoch 4/200\n",
      "25/24 [===============================] - 0s 8ms/step - loss: 0.1142 - auc_pr: 0.9534 - acc: 0.9962 - val_loss: 0.3883 - val_auc_pr: 0.9593 - val_acc: 0.8560\n",
      "Epoch 5/200\n",
      "25/24 [===============================] - 0s 8ms/step - loss: 0.0646 - auc_pr: 0.9634 - acc: 0.9975 - val_loss: 0.4183 - val_auc_pr: 0.9666 - val_acc: 0.8560\n",
      "Epoch 6/200\n",
      "25/24 [===============================] - 0s 8ms/step - loss: 0.0407 - auc_pr: 0.9693 - acc: 0.9987 - val_loss: 0.4460 - val_auc_pr: 0.9708 - val_acc: 0.8613\n",
      "Epoch 7/200\n",
      "25/24 [===============================] - 0s 8ms/step - loss: 0.0300 - auc_pr: 0.9722 - acc: 0.9987 - val_loss: 0.4663 - val_auc_pr: 0.9734 - val_acc: 0.8586\n",
      "Epoch 8/200\n",
      "25/24 [===============================] - 0s 8ms/step - loss: 0.0230 - auc_pr: 0.9743 - acc: 1.0000 - val_loss: 0.4610 - val_auc_pr: 0.9753 - val_acc: 0.8613\n",
      "Epoch 9/200\n",
      "25/24 [===============================] - 0s 8ms/step - loss: 0.0188 - auc_pr: 0.9760 - acc: 1.0000 - val_loss: 0.4825 - val_auc_pr: 0.9766 - val_acc: 0.8613\n",
      "Epoch 10/200\n",
      "25/24 [===============================] - 0s 7ms/step - loss: 0.0163 - auc_pr: 0.9772 - acc: 1.0000 - val_loss: 0.5380 - val_auc_pr: 0.9775 - val_acc: 0.8560\n",
      "Epoch 11/200\n",
      "25/24 [===============================] - 0s 8ms/step - loss: 0.0151 - auc_pr: 0.9777 - acc: 1.0000 - val_loss: 0.5486 - val_auc_pr: 0.9780 - val_acc: 0.8508\n",
      "Epoch 12/200\n",
      "25/24 [===============================] - 0s 8ms/step - loss: 0.0137 - auc_pr: 0.9782 - acc: 1.0000 - val_loss: 0.4858 - val_auc_pr: 0.9786 - val_acc: 0.8586\n",
      "Epoch 13/200\n",
      "25/24 [===============================] - 0s 8ms/step - loss: 0.0115 - auc_pr: 0.9790 - acc: 1.0000 - val_loss: 0.4895 - val_auc_pr: 0.9794 - val_acc: 0.8586\n",
      "Epoch 14/200\n",
      "25/24 [===============================] - 0s 11ms/step - loss: 0.0105 - auc_pr: 0.9796 - acc: 1.0000 - val_loss: 0.5094 - val_auc_pr: 0.9799 - val_acc: 0.8613\n",
      "Epoch 15/200\n",
      "25/24 [===============================] - 0s 13ms/step - loss: 0.0100 - auc_pr: 0.9801 - acc: 1.0000 - val_loss: 0.5243 - val_auc_pr: 0.9802 - val_acc: 0.8586\n",
      "Epoch 16/200\n",
      "25/24 [===============================] - 0s 10ms/step - loss: 0.0089 - auc_pr: 0.9804 - acc: 1.0000 - val_loss: 0.4734 - val_auc_pr: 0.9806 - val_acc: 0.8613\n",
      "Epoch 17/200\n",
      "25/24 [===============================] - 0s 8ms/step - loss: 0.0084 - auc_pr: 0.9809 - acc: 1.0000 - val_loss: 0.4931 - val_auc_pr: 0.9810 - val_acc: 0.8560\n",
      "Epoch 18/200\n",
      "25/24 [===============================] - 0s 8ms/step - loss: 0.0076 - auc_pr: 0.9812 - acc: 1.0000 - val_loss: 0.4969 - val_auc_pr: 0.9814 - val_acc: 0.8534\n",
      "Epoch 19/200\n",
      "25/24 [===============================] - 0s 8ms/step - loss: 0.0075 - auc_pr: 0.9816 - acc: 1.0000 - val_loss: 0.5994 - val_auc_pr: 0.9816 - val_acc: 0.8534\n",
      "Epoch 20/200\n",
      "25/24 [===============================] - 0s 8ms/step - loss: 0.0072 - auc_pr: 0.9816 - acc: 1.0000 - val_loss: 0.4827 - val_auc_pr: 0.9817 - val_acc: 0.8639\n",
      "Epoch 21/200\n",
      "25/24 [===============================] - 0s 8ms/step - loss: 0.0067 - auc_pr: 0.9819 - acc: 1.0000 - val_loss: 0.5741 - val_auc_pr: 0.9818 - val_acc: 0.8560\n",
      "Epoch 22/200\n",
      "25/24 [===============================] - 0s 8ms/step - loss: 0.0060 - auc_pr: 0.9819 - acc: 1.0000 - val_loss: 0.5103 - val_auc_pr: 0.9820 - val_acc: 0.8586\n",
      "Epoch 23/200\n",
      "25/24 [===============================] - 0s 13ms/step - loss: 0.0056 - auc_pr: 0.9821 - acc: 1.0000 - val_loss: 0.5542 - val_auc_pr: 0.9821 - val_acc: 0.8586\n",
      "Epoch 24/200\n",
      "25/24 [===============================] - 0s 10ms/step - loss: 0.0053 - auc_pr: 0.9822 - acc: 1.0000 - val_loss: 0.5358 - val_auc_pr: 0.9823 - val_acc: 0.8508\n",
      "Epoch 25/200\n",
      "25/24 [===============================] - 0s 8ms/step - loss: 0.0052 - auc_pr: 0.9823 - acc: 1.0000 - val_loss: 0.6259 - val_auc_pr: 0.9823 - val_acc: 0.8508\n",
      "Epoch 26/200\n",
      "25/24 [===============================] - 0s 8ms/step - loss: 0.0049 - auc_pr: 0.9823 - acc: 1.0000 - val_loss: 0.5521 - val_auc_pr: 0.9823 - val_acc: 0.8534\n",
      "Epoch 27/200\n",
      "25/24 [===============================] - 0s 8ms/step - loss: 0.0046 - auc_pr: 0.9824 - acc: 1.0000 - val_loss: 0.5210 - val_auc_pr: 0.9825 - val_acc: 0.8534\n",
      "Epoch 28/200\n",
      "25/24 [===============================] - 0s 14ms/step - loss: 0.0046 - auc_pr: 0.9826 - acc: 1.0000 - val_loss: 0.5886 - val_auc_pr: 0.9825 - val_acc: 0.8586\n",
      "Epoch 29/200\n",
      "25/24 [===============================] - 0s 12ms/step - loss: 0.0042 - auc_pr: 0.9826 - acc: 1.0000 - val_loss: 0.5610 - val_auc_pr: 0.9826 - val_acc: 0.8534\n",
      "Epoch 30/200\n",
      "25/24 [===============================] - 0s 9ms/step - loss: 0.0040 - auc_pr: 0.9826 - acc: 1.0000 - val_loss: 0.5847 - val_auc_pr: 0.9826 - val_acc: 0.8560\n",
      "Epoch 31/200\n",
      "25/24 [===============================] - 0s 8ms/step - loss: 0.0038 - auc_pr: 0.9826 - acc: 1.0000 - val_loss: 0.5731 - val_auc_pr: 0.9826 - val_acc: 0.8560\n",
      "Epoch 32/200\n",
      "25/24 [===============================] - 0s 8ms/step - loss: 0.0037 - auc_pr: 0.9826 - acc: 1.0000 - val_loss: 0.6653 - val_auc_pr: 0.9826 - val_acc: 0.8560\n",
      "Epoch 33/200\n",
      "25/24 [===============================] - 0s 8ms/step - loss: 0.0034 - auc_pr: 0.9826 - acc: 1.0000 - val_loss: 0.5891 - val_auc_pr: 0.9825 - val_acc: 0.8560\n",
      "Epoch 34/200\n",
      "25/24 [===============================] - 0s 10ms/step - loss: 0.0032 - auc_pr: 0.9826 - acc: 1.0000 - val_loss: 0.6259 - val_auc_pr: 0.9826 - val_acc: 0.8482\n",
      "Epoch 35/200\n",
      "25/24 [===============================] - 0s 9ms/step - loss: 0.0031 - auc_pr: 0.9826 - acc: 1.0000 - val_loss: 0.6040 - val_auc_pr: 0.9825 - val_acc: 0.8508\n",
      "Epoch 36/200\n",
      "25/24 [===============================] - 0s 7ms/step - loss: 0.0031 - auc_pr: 0.9825 - acc: 1.0000 - val_loss: 0.6181 - val_auc_pr: 0.9825 - val_acc: 0.8534\n",
      "Epoch 37/200\n",
      "25/24 [===============================] - 0s 7ms/step - loss: 0.0030 - auc_pr: 0.9825 - acc: 1.0000 - val_loss: 0.6074 - val_auc_pr: 0.9824 - val_acc: 0.8534\n",
      "Epoch 38/200\n",
      "25/24 [===============================] - 0s 7ms/step - loss: 0.0028 - auc_pr: 0.9824 - acc: 1.0000 - val_loss: 0.5930 - val_auc_pr: 0.9825 - val_acc: 0.8534\n",
      "Epoch 39/200\n",
      "25/24 [===============================] - 0s 8ms/step - loss: 0.0027 - auc_pr: 0.9825 - acc: 1.0000 - val_loss: 0.5643 - val_auc_pr: 0.9825 - val_acc: 0.8586\n",
      "Epoch 40/200\n",
      "25/24 [===============================] - 0s 11ms/step - loss: 0.0026 - auc_pr: 0.9826 - acc: 1.0000 - val_loss: 0.5901 - val_auc_pr: 0.9825 - val_acc: 0.8586\n",
      "Epoch 41/200\n",
      "25/24 [===============================] - 0s 13ms/step - loss: 0.0025 - auc_pr: 0.9826 - acc: 1.0000 - val_loss: 0.5621 - val_auc_pr: 0.9826 - val_acc: 0.8534\n",
      "Epoch 42/200\n",
      "25/24 [===============================] - 0s 10ms/step - loss: 0.0024 - auc_pr: 0.9826 - acc: 1.0000 - val_loss: 0.6102 - val_auc_pr: 0.9826 - val_acc: 0.8560\n",
      "Epoch 43/200\n",
      "25/24 [===============================] - 0s 8ms/step - loss: 0.0024 - auc_pr: 0.9826 - acc: 1.0000 - val_loss: 0.6331 - val_auc_pr: 0.9826 - val_acc: 0.8613\n",
      "Epoch 44/200\n",
      "25/24 [===============================] - 0s 8ms/step - loss: 0.0024 - auc_pr: 0.9826 - acc: 1.0000 - val_loss: 0.5546 - val_auc_pr: 0.9826 - val_acc: 0.8613\n",
      "Epoch 45/200\n",
      "25/24 [===============================] - 0s 11ms/step - loss: 0.0022 - auc_pr: 0.9826 - acc: 1.0000 - val_loss: 0.5700 - val_auc_pr: 0.9826 - val_acc: 0.8586\n",
      "Epoch 46/200\n",
      "25/24 [===============================] - 0s 9ms/step - loss: 0.0022 - auc_pr: 0.9827 - acc: 1.0000 - val_loss: 0.5801 - val_auc_pr: 0.9827 - val_acc: 0.8534\n",
      "Epoch 47/200\n"
     ]
    },
    {
     "name": "stdout",
     "output_type": "stream",
     "text": [
      "25/24 [===============================] - 0s 8ms/step - loss: 0.0021 - auc_pr: 0.9827 - acc: 1.0000 - val_loss: 0.8258 - val_auc_pr: 0.9826 - val_acc: 0.8377\n",
      "Epoch 48/200\n",
      "25/24 [===============================] - 0s 7ms/step - loss: 0.0024 - auc_pr: 0.9826 - acc: 1.0000 - val_loss: 0.6953 - val_auc_pr: 0.9826 - val_acc: 0.8455\n",
      "Epoch 49/200\n",
      "25/24 [===============================] - 0s 7ms/step - loss: 0.0021 - auc_pr: 0.9826 - acc: 1.0000 - val_loss: 0.6695 - val_auc_pr: 0.9825 - val_acc: 0.8455\n",
      "Epoch 50/200\n",
      "25/24 [===============================] - 0s 13ms/step - loss: 0.0020 - auc_pr: 0.9825 - acc: 1.0000 - val_loss: 0.6059 - val_auc_pr: 0.9825 - val_acc: 0.8560\n",
      "Epoch 51/200\n",
      "25/24 [===============================] - 0s 12ms/step - loss: 0.0019 - auc_pr: 0.9825 - acc: 1.0000 - val_loss: 0.5731 - val_auc_pr: 0.9825 - val_acc: 0.8560\n",
      "Epoch 52/200\n",
      "25/24 [===============================] - 0s 8ms/step - loss: 0.0018 - auc_pr: 0.9826 - acc: 1.0000 - val_loss: 0.5714 - val_auc_pr: 0.9826 - val_acc: 0.8613\n",
      "Epoch 53/200\n",
      "25/24 [===============================] - 0s 7ms/step - loss: 0.0018 - auc_pr: 0.9826 - acc: 1.0000 - val_loss: 0.6495 - val_auc_pr: 0.9826 - val_acc: 0.8508\n",
      "Epoch 54/200\n",
      "25/24 [===============================] - 0s 8ms/step - loss: 0.0017 - auc_pr: 0.9826 - acc: 1.0000 - val_loss: 0.5991 - val_auc_pr: 0.9826 - val_acc: 0.8613\n",
      "Epoch 55/200\n",
      "25/24 [===============================] - 0s 7ms/step - loss: 0.0017 - auc_pr: 0.9826 - acc: 1.0000 - val_loss: 0.7421 - val_auc_pr: 0.9825 - val_acc: 0.8482\n",
      "Epoch 56/200\n",
      "25/24 [===============================] - 0s 7ms/step - loss: 0.0016 - auc_pr: 0.9825 - acc: 1.0000 - val_loss: 0.6074 - val_auc_pr: 0.9825 - val_acc: 0.8586\n",
      "Epoch 57/200\n",
      "25/24 [===============================] - 0s 8ms/step - loss: 0.0016 - auc_pr: 0.9825 - acc: 1.0000 - val_loss: 0.8111 - val_auc_pr: 0.9825 - val_acc: 0.8455\n",
      "Epoch 58/200\n",
      "25/24 [===============================] - 0s 8ms/step - loss: 0.0016 - auc_pr: 0.9824 - acc: 1.0000 - val_loss: 0.6374 - val_auc_pr: 0.9824 - val_acc: 0.8586\n",
      "Epoch 59/200\n",
      "25/24 [===============================] - 0s 13ms/step - loss: 0.0015 - auc_pr: 0.9824 - acc: 1.0000 - val_loss: 0.6315 - val_auc_pr: 0.9824 - val_acc: 0.8560\n",
      "Epoch 60/200\n",
      "25/24 [===============================] - 0s 9ms/step - loss: 0.0015 - auc_pr: 0.9824 - acc: 1.0000 - val_loss: 0.7017 - val_auc_pr: 0.9823 - val_acc: 0.8613\n",
      "Epoch 61/200\n",
      "25/24 [===============================] - 0s 9ms/step - loss: 0.0014 - auc_pr: 0.9823 - acc: 1.0000 - val_loss: 0.6659 - val_auc_pr: 0.9823 - val_acc: 0.8455\n",
      "Epoch 62/200\n",
      "25/24 [===============================] - 0s 12ms/step - loss: 0.0015 - auc_pr: 0.9823 - acc: 1.0000 - val_loss: 0.6171 - val_auc_pr: 0.9823 - val_acc: 0.8482\n",
      "Epoch 63/200\n",
      "25/24 [===============================] - 0s 10ms/step - loss: 0.0014 - auc_pr: 0.9823 - acc: 1.0000 - val_loss: 0.6973 - val_auc_pr: 0.9823 - val_acc: 0.8482\n",
      "Epoch 64/200\n",
      "25/24 [===============================] - 0s 8ms/step - loss: 0.0013 - auc_pr: 0.9823 - acc: 1.0000 - val_loss: 0.6259 - val_auc_pr: 0.9822 - val_acc: 0.8508\n",
      "Epoch 65/200\n",
      "25/24 [===============================] - 0s 8ms/step - loss: 0.0013 - auc_pr: 0.9822 - acc: 1.0000 - val_loss: 0.6879 - val_auc_pr: 0.9822 - val_acc: 0.8586\n",
      "Epoch 66/200\n",
      "25/24 [===============================] - 0s 8ms/step - loss: 0.0013 - auc_pr: 0.9822 - acc: 1.0000 - val_loss: 0.6249 - val_auc_pr: 0.9822 - val_acc: 0.8613\n",
      "Epoch 67/200\n",
      "25/24 [===============================] - 0s 8ms/step - loss: 0.0013 - auc_pr: 0.9822 - acc: 1.0000 - val_loss: 0.8874 - val_auc_pr: 0.9821 - val_acc: 0.8403\n",
      "Epoch 68/200\n",
      "25/24 [===============================] - 0s 8ms/step - loss: 0.0017 - auc_pr: 0.9821 - acc: 1.0000 - val_loss: 1.0565 - val_auc_pr: 0.9821 - val_acc: 0.8377\n",
      "Epoch 69/200\n",
      "25/24 [===============================] - 0s 8ms/step - loss: 0.0013 - auc_pr: 0.9820 - acc: 1.0000 - val_loss: 0.7485 - val_auc_pr: 0.9820 - val_acc: 0.8586\n",
      "Epoch 70/200\n",
      "25/24 [===============================] - 0s 8ms/step - loss: 0.0012 - auc_pr: 0.9820 - acc: 1.0000 - val_loss: 0.6615 - val_auc_pr: 0.9819 - val_acc: 0.8534\n",
      "Epoch 71/200\n",
      "25/24 [===============================] - 0s 7ms/step - loss: 0.0012 - auc_pr: 0.9819 - acc: 1.0000 - val_loss: 0.5918 - val_auc_pr: 0.9819 - val_acc: 0.8508\n",
      "Epoch 72/200\n",
      "25/24 [===============================] - 0s 8ms/step - loss: 0.0014 - auc_pr: 0.9820 - acc: 1.0000 - val_loss: 1.0742 - val_auc_pr: 0.9819 - val_acc: 0.8351\n",
      "Epoch 73/200\n",
      "25/24 [===============================] - 0s 7ms/step - loss: 0.0018 - auc_pr: 0.9819 - acc: 1.0000 - val_loss: 1.4445 - val_auc_pr: 0.9818 - val_acc: 0.8272\n",
      "Epoch 74/200\n",
      "25/24 [===============================] - 0s 8ms/step - loss: 0.0027 - auc_pr: 0.9817 - acc: 1.0000 - val_loss: 2.1781 - val_auc_pr: 0.9815 - val_acc: 0.8272\n",
      "Epoch 75/200\n",
      "25/24 [===============================] - 0s 7ms/step - loss: 0.0048 - auc_pr: 0.9813 - acc: 1.0000 - val_loss: 0.8697 - val_auc_pr: 0.9813 - val_acc: 0.8403\n",
      "Epoch 76/200\n",
      "25/24 [===============================] - 0s 7ms/step - loss: 0.0019 - auc_pr: 0.9813 - acc: 1.0000 - val_loss: 0.6577 - val_auc_pr: 0.9813 - val_acc: 0.8586\n",
      "Epoch 77/200\n",
      "25/24 [===============================] - 0s 8ms/step - loss: 0.0012 - auc_pr: 0.9813 - acc: 1.0000 - val_loss: 0.6525 - val_auc_pr: 0.9813 - val_acc: 0.8534\n",
      "Epoch 78/200\n",
      "25/24 [===============================] - 0s 8ms/step - loss: 0.0012 - auc_pr: 0.9813 - acc: 1.0000 - val_loss: 0.6211 - val_auc_pr: 0.9813 - val_acc: 0.8534\n",
      "Epoch 79/200\n",
      "25/24 [===============================] - 0s 8ms/step - loss: 0.0011 - auc_pr: 0.9813 - acc: 1.0000 - val_loss: 0.6781 - val_auc_pr: 0.9812 - val_acc: 0.8560\n",
      "Epoch 80/200\n",
      "25/24 [===============================] - 0s 8ms/step - loss: 9.4990e-04 - auc_pr: 0.9812 - acc: 1.0000 - val_loss: 0.8773 - val_auc_pr: 0.9812 - val_acc: 0.8377\n",
      "Epoch 81/200\n",
      "25/24 [===============================] - 0s 8ms/step - loss: 0.0010 - auc_pr: 0.9812 - acc: 1.0000 - val_loss: 0.7363 - val_auc_pr: 0.9812 - val_acc: 0.8560\n",
      "Epoch 82/200\n",
      "25/24 [===============================] - 0s 8ms/step - loss: 9.2790e-04 - auc_pr: 0.9812 - acc: 1.0000 - val_loss: 0.6811 - val_auc_pr: 0.9812 - val_acc: 0.8586\n",
      "Epoch 83/200\n",
      "25/24 [===============================] - 0s 8ms/step - loss: 9.2776e-04 - auc_pr: 0.9812 - acc: 1.0000 - val_loss: 0.8223 - val_auc_pr: 0.9811 - val_acc: 0.8560\n",
      "Epoch 84/200\n",
      "25/24 [===============================] - 0s 8ms/step - loss: 9.8177e-04 - auc_pr: 0.9811 - acc: 1.0000 - val_loss: 0.7673 - val_auc_pr: 0.9811 - val_acc: 0.8586\n",
      "Epoch 85/200\n",
      "25/24 [===============================] - 0s 7ms/step - loss: 8.7021e-04 - auc_pr: 0.9811 - acc: 1.0000 - val_loss: 0.6536 - val_auc_pr: 0.9811 - val_acc: 0.8534\n",
      "Epoch 86/200\n",
      "25/24 [===============================] - 0s 8ms/step - loss: 9.4141e-04 - auc_pr: 0.9811 - acc: 1.0000 - val_loss: 0.8149 - val_auc_pr: 0.9811 - val_acc: 0.8534\n",
      "Epoch 87/200\n",
      "25/24 [===============================] - 0s 8ms/step - loss: 8.6976e-04 - auc_pr: 0.9811 - acc: 1.0000 - val_loss: 0.7700 - val_auc_pr: 0.9811 - val_acc: 0.8508\n",
      "Epoch 88/200\n",
      "25/24 [===============================] - 0s 8ms/step - loss: 8.4803e-04 - auc_pr: 0.9811 - acc: 1.0000 - val_loss: 0.7606 - val_auc_pr: 0.9810 - val_acc: 0.8534\n",
      "Epoch 89/200\n",
      "25/24 [===============================] - 0s 8ms/step - loss: 9.1013e-04 - auc_pr: 0.9810 - acc: 1.0000 - val_loss: 0.6437 - val_auc_pr: 0.9810 - val_acc: 0.8534\n",
      "Epoch 90/200\n",
      "25/24 [===============================] - 0s 8ms/step - loss: 9.2890e-04 - auc_pr: 0.9811 - acc: 1.0000 - val_loss: 0.8243 - val_auc_pr: 0.9810 - val_acc: 0.8560\n",
      "Epoch 91/200\n",
      "25/24 [===============================] - 0s 8ms/step - loss: 8.2125e-04 - auc_pr: 0.9810 - acc: 1.0000 - val_loss: 0.7191 - val_auc_pr: 0.9810 - val_acc: 0.8613\n",
      "Epoch 92/200\n",
      "25/24 [===============================] - 0s 7ms/step - loss: 8.6467e-04 - auc_pr: 0.9810 - acc: 1.0000 - val_loss: 0.5663 - val_auc_pr: 0.9810 - val_acc: 0.8534\n",
      "Epoch 93/200\n",
      "25/24 [===============================] - 0s 8ms/step - loss: 8.9436e-04 - auc_pr: 0.9811 - acc: 1.0000 - val_loss: 0.5920 - val_auc_pr: 0.9811 - val_acc: 0.8534\n",
      "Epoch 94/200\n",
      "25/24 [===============================] - 0s 11ms/step - loss: 8.5921e-04 - auc_pr: 0.9811 - acc: 1.0000 - val_loss: 0.6857 - val_auc_pr: 0.9811 - val_acc: 0.8613\n"
     ]
    },
    {
     "name": "stdout",
     "output_type": "stream",
     "text": [
      "Epoch 95/200\n",
      "25/24 [===============================] - 0s 12ms/step - loss: 8.7486e-04 - auc_pr: 0.9811 - acc: 1.0000 - val_loss: 0.8888 - val_auc_pr: 0.9811 - val_acc: 0.8534\n",
      "Epoch 96/200\n",
      "25/24 [===============================] - 0s 12ms/step - loss: 8.7643e-04 - auc_pr: 0.9810 - acc: 1.0000 - val_loss: 1.0330 - val_auc_pr: 0.9810 - val_acc: 0.8455\n",
      "Epoch 97/200\n",
      "25/24 [===============================] - 0s 8ms/step - loss: 0.0019 - auc_pr: 0.9810 - acc: 1.0000 - val_loss: 0.5416 - val_auc_pr: 0.9810 - val_acc: 0.8482\n",
      "Epoch 98/200\n",
      "25/24 [===============================] - 0s 7ms/step - loss: 9.8599e-04 - auc_pr: 0.9810 - acc: 1.0000 - val_loss: 0.6276 - val_auc_pr: 0.9810 - val_acc: 0.8455\n",
      "Epoch 99/200\n",
      "25/24 [===============================] - 0s 13ms/step - loss: 0.0011 - auc_pr: 0.9811 - acc: 1.0000 - val_loss: 0.5821 - val_auc_pr: 0.9811 - val_acc: 0.8455\n",
      "Epoch 100/200\n",
      "25/24 [===============================] - 0s 8ms/step - loss: 8.1370e-04 - auc_pr: 0.9811 - acc: 1.0000 - val_loss: 0.6717 - val_auc_pr: 0.9811 - val_acc: 0.8508\n",
      "Epoch 101/200\n",
      "25/24 [===============================] - 0s 8ms/step - loss: 7.3160e-04 - auc_pr: 0.9811 - acc: 1.0000 - val_loss: 0.5950 - val_auc_pr: 0.9811 - val_acc: 0.8455\n",
      "Epoch 102/200\n",
      "25/24 [===============================] - 0s 14ms/step - loss: 7.1083e-04 - auc_pr: 0.9811 - acc: 1.0000 - val_loss: 0.7236 - val_auc_pr: 0.9811 - val_acc: 0.8534\n",
      "Epoch 103/200\n",
      "25/24 [===============================] - 0s 11ms/step - loss: 6.4547e-04 - auc_pr: 0.9811 - acc: 1.0000 - val_loss: 0.6719 - val_auc_pr: 0.9811 - val_acc: 0.8482\n",
      "Epoch 104/200\n",
      "25/24 [===============================] - 0s 12ms/step - loss: 7.0806e-04 - auc_pr: 0.9811 - acc: 1.0000 - val_loss: 1.0881 - val_auc_pr: 0.9811 - val_acc: 0.8377\n",
      "Epoch 105/200\n",
      "25/24 [===============================] - 0s 10ms/step - loss: 7.3576e-04 - auc_pr: 0.9810 - acc: 1.0000 - val_loss: 0.8682 - val_auc_pr: 0.9810 - val_acc: 0.8508\n",
      "Epoch 106/200\n",
      "25/24 [===============================] - 0s 12ms/step - loss: 8.2026e-04 - auc_pr: 0.9810 - acc: 1.0000 - val_loss: 0.7129 - val_auc_pr: 0.9810 - val_acc: 0.8534\n",
      "Epoch 107/200\n",
      "25/24 [===============================] - 0s 13ms/step - loss: 9.3948e-04 - auc_pr: 0.9810 - acc: 1.0000 - val_loss: 0.6061 - val_auc_pr: 0.9810 - val_acc: 0.8508\n",
      "Epoch 108/200\n",
      "25/24 [===============================] - 0s 12ms/step - loss: 0.0021 - auc_pr: 0.9810 - acc: 1.0000 - val_loss: 1.0718 - val_auc_pr: 0.9810 - val_acc: 0.8429\n",
      "Epoch 109/200\n",
      "25/24 [===============================] - 0s 12ms/step - loss: 0.0147 - auc_pr: 0.9810 - acc: 1.0000 - val_loss: 2.7263 - val_auc_pr: 0.9809 - val_acc: 0.8272\n",
      "Epoch 110/200\n",
      "25/24 [===============================] - 0s 13ms/step - loss: 0.0267 - auc_pr: 0.9807 - acc: 1.0000 - val_loss: 2.4888 - val_auc_pr: 0.9806 - val_acc: 0.8351\n",
      "Epoch 111/200\n",
      "25/24 [===============================] - 0s 8ms/step - loss: 0.0154 - auc_pr: 0.9805 - acc: 1.0000 - val_loss: 0.5444 - val_auc_pr: 0.9805 - val_acc: 0.8377\n",
      "Epoch 112/200\n",
      "25/24 [===============================] - 0s 8ms/step - loss: 0.0235 - auc_pr: 0.9805 - acc: 1.0000 - val_loss: 1.7522 - val_auc_pr: 0.9805 - val_acc: 0.8455\n",
      "Epoch 113/200\n",
      "25/24 [===============================] - 0s 8ms/step - loss: 0.0043 - auc_pr: 0.9804 - acc: 1.0000 - val_loss: 1.3957 - val_auc_pr: 0.9804 - val_acc: 0.8429\n",
      "Epoch 114/200\n",
      "25/24 [===============================] - 0s 13ms/step - loss: 0.0014 - auc_pr: 0.9803 - acc: 1.0000 - val_loss: 0.7864 - val_auc_pr: 0.9803 - val_acc: 0.8508\n",
      "Epoch 115/200\n",
      "25/24 [===============================] - 0s 14ms/step - loss: 8.5054e-04 - auc_pr: 0.9803 - acc: 1.0000 - val_loss: 0.7426 - val_auc_pr: 0.9803 - val_acc: 0.8508\n",
      "Epoch 116/200\n",
      "25/24 [===============================] - 0s 12ms/step - loss: 5.9630e-04 - auc_pr: 0.9803 - acc: 1.0000 - val_loss: 0.8866 - val_auc_pr: 0.9803 - val_acc: 0.8455\n",
      "Epoch 117/200\n",
      "25/24 [===============================] - 0s 13ms/step - loss: 6.0541e-04 - auc_pr: 0.9803 - acc: 1.0000 - val_loss: 0.6864 - val_auc_pr: 0.9803 - val_acc: 0.8482\n",
      "Epoch 118/200\n",
      "25/24 [===============================] - 0s 8ms/step - loss: 5.8238e-04 - auc_pr: 0.9802 - acc: 1.0000 - val_loss: 0.7687 - val_auc_pr: 0.9802 - val_acc: 0.8534\n",
      "Epoch 119/200\n",
      "25/24 [===============================] - 0s 8ms/step - loss: 5.4569e-04 - auc_pr: 0.9802 - acc: 1.0000 - val_loss: 0.8427 - val_auc_pr: 0.9802 - val_acc: 0.8455\n",
      "Epoch 120/200\n",
      "25/24 [===============================] - 0s 12ms/step - loss: 5.5614e-04 - auc_pr: 0.9802 - acc: 1.0000 - val_loss: 0.7491 - val_auc_pr: 0.9802 - val_acc: 0.8482\n",
      "Epoch 121/200\n",
      "25/24 [===============================] - 0s 14ms/step - loss: 5.4736e-04 - auc_pr: 0.9802 - acc: 1.0000 - val_loss: 0.9246 - val_auc_pr: 0.9802 - val_acc: 0.8455\n",
      "Epoch 122/200\n",
      "25/24 [===============================] - 0s 10ms/step - loss: 5.5201e-04 - auc_pr: 0.9802 - acc: 1.0000 - val_loss: 0.7087 - val_auc_pr: 0.9802 - val_acc: 0.8508\n",
      "Epoch 123/200\n",
      "25/24 [===============================] - 0s 8ms/step - loss: 5.3297e-04 - auc_pr: 0.9802 - acc: 1.0000 - val_loss: 0.8198 - val_auc_pr: 0.9802 - val_acc: 0.8455\n",
      "Epoch 124/200\n",
      "25/24 [===============================] - 0s 8ms/step - loss: 5.4669e-04 - auc_pr: 0.9802 - acc: 1.0000 - val_loss: 0.7424 - val_auc_pr: 0.9801 - val_acc: 0.8534\n",
      "Epoch 125/200\n",
      "25/24 [===============================] - 0s 8ms/step - loss: 5.0190e-04 - auc_pr: 0.9801 - acc: 1.0000 - val_loss: 0.7369 - val_auc_pr: 0.9801 - val_acc: 0.8429\n",
      "Epoch 126/200\n",
      "25/24 [===============================] - 0s 8ms/step - loss: 5.3366e-04 - auc_pr: 0.9802 - acc: 1.0000 - val_loss: 0.8747 - val_auc_pr: 0.9801 - val_acc: 0.8455\n",
      "Epoch 127/200\n",
      "25/24 [===============================] - 0s 8ms/step - loss: 5.4824e-04 - auc_pr: 0.9801 - acc: 1.0000 - val_loss: 0.6830 - val_auc_pr: 0.9801 - val_acc: 0.8534\n",
      "Epoch 128/200\n",
      "25/24 [===============================] - 0s 8ms/step - loss: 4.9539e-04 - auc_pr: 0.9801 - acc: 1.0000 - val_loss: 0.7525 - val_auc_pr: 0.9801 - val_acc: 0.8534\n",
      "Epoch 129/200\n",
      "25/24 [===============================] - 0s 8ms/step - loss: 4.7953e-04 - auc_pr: 0.9801 - acc: 1.0000 - val_loss: 0.7293 - val_auc_pr: 0.9801 - val_acc: 0.8534\n",
      "Epoch 130/200\n",
      "25/24 [===============================] - 0s 8ms/step - loss: 4.8359e-04 - auc_pr: 0.9801 - acc: 1.0000 - val_loss: 0.7897 - val_auc_pr: 0.9801 - val_acc: 0.8455\n",
      "Epoch 131/200\n",
      "25/24 [===============================] - 0s 11ms/step - loss: 4.7757e-04 - auc_pr: 0.9801 - acc: 1.0000 - val_loss: 0.6983 - val_auc_pr: 0.9801 - val_acc: 0.8534\n",
      "Epoch 132/200\n",
      "25/24 [===============================] - 0s 12ms/step - loss: 4.7737e-04 - auc_pr: 0.9801 - acc: 1.0000 - val_loss: 0.7608 - val_auc_pr: 0.9801 - val_acc: 0.8508\n",
      "Epoch 133/200\n",
      "25/24 [===============================] - 0s 12ms/step - loss: 4.8266e-04 - auc_pr: 0.9801 - acc: 1.0000 - val_loss: 0.7424 - val_auc_pr: 0.9801 - val_acc: 0.8455\n",
      "Epoch 134/200\n",
      "25/24 [===============================] - 0s 11ms/step - loss: 4.7620e-04 - auc_pr: 0.9801 - acc: 1.0000 - val_loss: 0.7506 - val_auc_pr: 0.9800 - val_acc: 0.8534\n",
      "Epoch 135/200\n",
      "25/24 [===============================] - 0s 13ms/step - loss: 4.9121e-04 - auc_pr: 0.9800 - acc: 1.0000 - val_loss: 0.7294 - val_auc_pr: 0.9800 - val_acc: 0.8534\n",
      "Epoch 136/200\n",
      "25/24 [===============================] - 0s 9ms/step - loss: 5.1211e-04 - auc_pr: 0.9800 - acc: 1.0000 - val_loss: 0.9771 - val_auc_pr: 0.9800 - val_acc: 0.8482\n",
      "Epoch 137/200\n",
      "25/24 [===============================] - 0s 11ms/step - loss: 5.0019e-04 - auc_pr: 0.9800 - acc: 1.0000 - val_loss: 0.8743 - val_auc_pr: 0.9800 - val_acc: 0.8429\n",
      "Epoch 138/200\n",
      "25/24 [===============================] - 0s 12ms/step - loss: 5.6348e-04 - auc_pr: 0.9800 - acc: 1.0000 - val_loss: 0.8312 - val_auc_pr: 0.9800 - val_acc: 0.8455\n",
      "Epoch 139/200\n",
      "25/24 [===============================] - 0s 11ms/step - loss: 4.5430e-04 - auc_pr: 0.9800 - acc: 1.0000 - val_loss: 0.8034 - val_auc_pr: 0.9800 - val_acc: 0.8560\n",
      "Epoch 140/200\n",
      "25/24 [===============================] - 0s 11ms/step - loss: 4.3467e-04 - auc_pr: 0.9800 - acc: 1.0000 - val_loss: 0.7572 - val_auc_pr: 0.9799 - val_acc: 0.8534\n",
      "Epoch 141/200\n"
     ]
    },
    {
     "name": "stdout",
     "output_type": "stream",
     "text": [
      "25/24 [===============================] - 0s 12ms/step - loss: 4.4290e-04 - auc_pr: 0.9799 - acc: 1.0000 - val_loss: 0.8423 - val_auc_pr: 0.9799 - val_acc: 0.8534\n",
      "Epoch 142/200\n",
      "25/24 [===============================] - 0s 13ms/step - loss: 4.3432e-04 - auc_pr: 0.9799 - acc: 1.0000 - val_loss: 0.7702 - val_auc_pr: 0.9799 - val_acc: 0.8534\n",
      "Epoch 143/200\n",
      "25/24 [===============================] - 0s 11ms/step - loss: 4.2714e-04 - auc_pr: 0.9799 - acc: 1.0000 - val_loss: 0.8105 - val_auc_pr: 0.9799 - val_acc: 0.8508\n",
      "Epoch 144/200\n",
      "25/24 [===============================] - 0s 9ms/step - loss: 4.6316e-04 - auc_pr: 0.9799 - acc: 1.0000 - val_loss: 0.7584 - val_auc_pr: 0.9799 - val_acc: 0.8508\n",
      "Epoch 145/200\n",
      "25/24 [===============================] - 0s 7ms/step - loss: 4.6996e-04 - auc_pr: 0.9799 - acc: 1.0000 - val_loss: 0.7530 - val_auc_pr: 0.9799 - val_acc: 0.8534\n",
      "Epoch 146/200\n",
      "25/24 [===============================] - 0s 9ms/step - loss: 4.7416e-04 - auc_pr: 0.9799 - acc: 1.0000 - val_loss: 0.8141 - val_auc_pr: 0.9799 - val_acc: 0.8534\n",
      "Epoch 147/200\n",
      "25/24 [===============================] - 0s 14ms/step - loss: 4.2940e-04 - auc_pr: 0.9799 - acc: 1.0000 - val_loss: 0.8031 - val_auc_pr: 0.9798 - val_acc: 0.8429\n",
      "Epoch 148/200\n",
      "25/24 [===============================] - 0s 8ms/step - loss: 4.1500e-04 - auc_pr: 0.9799 - acc: 1.0000 - val_loss: 0.8002 - val_auc_pr: 0.9798 - val_acc: 0.8560\n",
      "Epoch 149/200\n",
      "25/24 [===============================] - 0s 10ms/step - loss: 4.3522e-04 - auc_pr: 0.9798 - acc: 1.0000 - val_loss: 0.7746 - val_auc_pr: 0.9798 - val_acc: 0.8508\n",
      "Epoch 150/200\n",
      "25/24 [===============================] - 0s 10ms/step - loss: 4.3308e-04 - auc_pr: 0.9798 - acc: 1.0000 - val_loss: 0.8246 - val_auc_pr: 0.9798 - val_acc: 0.8534\n",
      "Epoch 151/200\n",
      "25/24 [===============================] - 0s 11ms/step - loss: 4.3020e-04 - auc_pr: 0.9798 - acc: 1.0000 - val_loss: 0.7578 - val_auc_pr: 0.9798 - val_acc: 0.8508\n",
      "Epoch 152/200\n",
      "25/24 [===============================] - 0s 11ms/step - loss: 4.0942e-04 - auc_pr: 0.9798 - acc: 1.0000 - val_loss: 0.8083 - val_auc_pr: 0.9798 - val_acc: 0.8560\n",
      "Epoch 153/200\n",
      "25/24 [===============================] - 0s 8ms/step - loss: 4.0623e-04 - auc_pr: 0.9798 - acc: 1.0000 - val_loss: 0.8377 - val_auc_pr: 0.9798 - val_acc: 0.8534\n",
      "Epoch 154/200\n",
      "25/24 [===============================] - 0s 7ms/step - loss: 4.3849e-04 - auc_pr: 0.9798 - acc: 1.0000 - val_loss: 0.8905 - val_auc_pr: 0.9798 - val_acc: 0.8455\n",
      "Epoch 155/200\n",
      "25/24 [===============================] - 0s 8ms/step - loss: 3.7984e-04 - auc_pr: 0.9798 - acc: 1.0000 - val_loss: 0.8026 - val_auc_pr: 0.9798 - val_acc: 0.8534\n",
      "Epoch 156/200\n",
      "25/24 [===============================] - 0s 7ms/step - loss: 3.9968e-04 - auc_pr: 0.9798 - acc: 1.0000 - val_loss: 0.8575 - val_auc_pr: 0.9797 - val_acc: 0.8482\n",
      "Epoch 157/200\n",
      "25/24 [===============================] - 0s 7ms/step - loss: 3.7682e-04 - auc_pr: 0.9797 - acc: 1.0000 - val_loss: 0.8425 - val_auc_pr: 0.9797 - val_acc: 0.8508\n",
      "Epoch 158/200\n",
      "25/24 [===============================] - 0s 8ms/step - loss: 3.6865e-04 - auc_pr: 0.9797 - acc: 1.0000 - val_loss: 0.8258 - val_auc_pr: 0.9797 - val_acc: 0.8508\n",
      "Epoch 159/200\n",
      "25/24 [===============================] - 0s 7ms/step - loss: 3.6512e-04 - auc_pr: 0.9797 - acc: 1.0000 - val_loss: 0.7988 - val_auc_pr: 0.9797 - val_acc: 0.8534\n",
      "Epoch 160/200\n",
      "25/24 [===============================] - 0s 7ms/step - loss: 3.8229e-04 - auc_pr: 0.9797 - acc: 1.0000 - val_loss: 0.7664 - val_auc_pr: 0.9797 - val_acc: 0.8534\n",
      "Epoch 161/200\n",
      "25/24 [===============================] - 0s 7ms/step - loss: 3.6587e-04 - auc_pr: 0.9797 - acc: 1.0000 - val_loss: 0.7727 - val_auc_pr: 0.9797 - val_acc: 0.8482\n",
      "Epoch 162/200\n",
      "25/24 [===============================] - 0s 7ms/step - loss: 3.8017e-04 - auc_pr: 0.9797 - acc: 1.0000 - val_loss: 0.7604 - val_auc_pr: 0.9797 - val_acc: 0.8429\n",
      "Epoch 163/200\n",
      "25/24 [===============================] - 0s 7ms/step - loss: 3.8474e-04 - auc_pr: 0.9797 - acc: 1.0000 - val_loss: 0.7169 - val_auc_pr: 0.9797 - val_acc: 0.8534\n",
      "Epoch 164/200\n",
      "25/24 [===============================] - 0s 7ms/step - loss: 3.6879e-04 - auc_pr: 0.9797 - acc: 1.0000 - val_loss: 0.8717 - val_auc_pr: 0.9797 - val_acc: 0.8534\n",
      "Epoch 165/200\n",
      "25/24 [===============================] - 0s 7ms/step - loss: 4.0081e-04 - auc_pr: 0.9797 - acc: 1.0000 - val_loss: 1.0493 - val_auc_pr: 0.9797 - val_acc: 0.8455\n",
      "Epoch 166/200\n",
      "25/24 [===============================] - 0s 7ms/step - loss: 3.7888e-04 - auc_pr: 0.9796 - acc: 1.0000 - val_loss: 0.8423 - val_auc_pr: 0.9796 - val_acc: 0.8534\n",
      "Epoch 167/200\n",
      "25/24 [===============================] - 0s 7ms/step - loss: 3.6456e-04 - auc_pr: 0.9796 - acc: 1.0000 - val_loss: 0.8279 - val_auc_pr: 0.9796 - val_acc: 0.8534\n",
      "Epoch 168/200\n",
      "25/24 [===============================] - 0s 7ms/step - loss: 3.3540e-04 - auc_pr: 0.9796 - acc: 1.0000 - val_loss: 0.7707 - val_auc_pr: 0.9796 - val_acc: 0.8560\n",
      "Epoch 169/200\n",
      "25/24 [===============================] - 0s 8ms/step - loss: 3.3345e-04 - auc_pr: 0.9796 - acc: 1.0000 - val_loss: 0.7827 - val_auc_pr: 0.9796 - val_acc: 0.8508\n",
      "Epoch 170/200\n",
      "25/24 [===============================] - 0s 7ms/step - loss: 3.3528e-04 - auc_pr: 0.9796 - acc: 1.0000 - val_loss: 0.7827 - val_auc_pr: 0.9796 - val_acc: 0.8482\n",
      "Epoch 171/200\n",
      "25/24 [===============================] - 0s 8ms/step - loss: 3.4503e-04 - auc_pr: 0.9796 - acc: 1.0000 - val_loss: 0.8566 - val_auc_pr: 0.9796 - val_acc: 0.8508\n",
      "Epoch 172/200\n",
      "25/24 [===============================] - 0s 7ms/step - loss: 3.8075e-04 - auc_pr: 0.9796 - acc: 1.0000 - val_loss: 1.1708 - val_auc_pr: 0.9796 - val_acc: 0.8455\n",
      "Epoch 173/200\n",
      "25/24 [===============================] - 0s 7ms/step - loss: 8.3677e-04 - auc_pr: 0.9796 - acc: 1.0000 - val_loss: 0.6633 - val_auc_pr: 0.9796 - val_acc: 0.8534\n",
      "Epoch 174/200\n",
      "25/24 [===============================] - 0s 7ms/step - loss: 3.8403e-04 - auc_pr: 0.9796 - acc: 1.0000 - val_loss: 0.7404 - val_auc_pr: 0.9796 - val_acc: 0.8534\n",
      "Epoch 175/200\n",
      "25/24 [===============================] - 0s 7ms/step - loss: 3.3563e-04 - auc_pr: 0.9796 - acc: 1.0000 - val_loss: 0.8043 - val_auc_pr: 0.9796 - val_acc: 0.8534\n",
      "Epoch 176/200\n",
      "25/24 [===============================] - 0s 8ms/step - loss: 3.6367e-04 - auc_pr: 0.9796 - acc: 1.0000 - val_loss: 0.8286 - val_auc_pr: 0.9796 - val_acc: 0.8508\n",
      "Epoch 177/200\n",
      "25/24 [===============================] - 0s 8ms/step - loss: 3.4268e-04 - auc_pr: 0.9796 - acc: 1.0000 - val_loss: 1.0406 - val_auc_pr: 0.9795 - val_acc: 0.8429\n",
      "Epoch 178/200\n",
      "25/24 [===============================] - 0s 8ms/step - loss: 4.1093e-04 - auc_pr: 0.9795 - acc: 1.0000 - val_loss: 0.8584 - val_auc_pr: 0.9795 - val_acc: 0.8534\n",
      "Epoch 179/200\n",
      "25/24 [===============================] - 0s 7ms/step - loss: 3.3237e-04 - auc_pr: 0.9795 - acc: 1.0000 - val_loss: 0.7802 - val_auc_pr: 0.9795 - val_acc: 0.8508\n",
      "Epoch 180/200\n",
      "25/24 [===============================] - 0s 7ms/step - loss: 3.1812e-04 - auc_pr: 0.9795 - acc: 1.0000 - val_loss: 0.7915 - val_auc_pr: 0.9795 - val_acc: 0.8508\n",
      "Epoch 181/200\n",
      "25/24 [===============================] - 0s 7ms/step - loss: 3.0834e-04 - auc_pr: 0.9795 - acc: 1.0000 - val_loss: 0.8548 - val_auc_pr: 0.9795 - val_acc: 0.8534\n",
      "Epoch 182/200\n",
      "25/24 [===============================] - 0s 8ms/step - loss: 3.4541e-04 - auc_pr: 0.9795 - acc: 1.0000 - val_loss: 0.7977 - val_auc_pr: 0.9795 - val_acc: 0.8560\n",
      "Epoch 183/200\n",
      "25/24 [===============================] - 0s 8ms/step - loss: 3.5796e-04 - auc_pr: 0.9795 - acc: 1.0000 - val_loss: 0.7531 - val_auc_pr: 0.9795 - val_acc: 0.8508\n",
      "Epoch 184/200\n",
      "25/24 [===============================] - 0s 8ms/step - loss: 3.2390e-04 - auc_pr: 0.9795 - acc: 1.0000 - val_loss: 0.7591 - val_auc_pr: 0.9795 - val_acc: 0.8455\n",
      "Epoch 185/200\n",
      "25/24 [===============================] - 0s 7ms/step - loss: 3.9547e-04 - auc_pr: 0.9795 - acc: 1.0000 - val_loss: 0.7522 - val_auc_pr: 0.9795 - val_acc: 0.8508\n",
      "Epoch 186/200\n",
      "25/24 [===============================] - 0s 8ms/step - loss: 3.1573e-04 - auc_pr: 0.9795 - acc: 1.0000 - val_loss: 0.7862 - val_auc_pr: 0.9795 - val_acc: 0.8508\n",
      "Epoch 187/200\n"
     ]
    },
    {
     "name": "stdout",
     "output_type": "stream",
     "text": [
      "25/24 [===============================] - 0s 7ms/step - loss: 3.0058e-04 - auc_pr: 0.9795 - acc: 1.0000 - val_loss: 0.7121 - val_auc_pr: 0.9795 - val_acc: 0.8534\n",
      "Epoch 188/200\n",
      "25/24 [===============================] - 0s 7ms/step - loss: 3.2048e-04 - auc_pr: 0.9795 - acc: 1.0000 - val_loss: 0.8081 - val_auc_pr: 0.9795 - val_acc: 0.8455\n",
      "Epoch 189/200\n",
      "25/24 [===============================] - 0s 7ms/step - loss: 3.4054e-04 - auc_pr: 0.9795 - acc: 1.0000 - val_loss: 0.8074 - val_auc_pr: 0.9795 - val_acc: 0.8508\n",
      "Epoch 190/200\n",
      "25/24 [===============================] - 0s 7ms/step - loss: 3.2048e-04 - auc_pr: 0.9795 - acc: 1.0000 - val_loss: 1.3393 - val_auc_pr: 0.9795 - val_acc: 0.8455\n",
      "Epoch 191/200\n",
      "25/24 [===============================] - 0s 7ms/step - loss: 4.4452e-04 - auc_pr: 0.9794 - acc: 1.0000 - val_loss: 1.0023 - val_auc_pr: 0.9794 - val_acc: 0.8534\n",
      "Epoch 192/200\n",
      "25/24 [===============================] - 0s 7ms/step - loss: 5.8000e-04 - auc_pr: 0.9794 - acc: 1.0000 - val_loss: 1.5102 - val_auc_pr: 0.9794 - val_acc: 0.8220\n",
      "Epoch 193/200\n",
      "25/24 [===============================] - 0s 7ms/step - loss: 4.2027e-04 - auc_pr: 0.9794 - acc: 1.0000 - val_loss: 1.0156 - val_auc_pr: 0.9793 - val_acc: 0.8429\n",
      "Epoch 194/200\n",
      "25/24 [===============================] - 0s 7ms/step - loss: 3.2346e-04 - auc_pr: 0.9793 - acc: 1.0000 - val_loss: 0.7656 - val_auc_pr: 0.9793 - val_acc: 0.8482\n",
      "Epoch 195/200\n",
      "25/24 [===============================] - 0s 7ms/step - loss: 3.2026e-04 - auc_pr: 0.9793 - acc: 1.0000 - val_loss: 0.8538 - val_auc_pr: 0.9793 - val_acc: 0.8455\n",
      "Epoch 196/200\n",
      "25/24 [===============================] - 0s 7ms/step - loss: 2.7396e-04 - auc_pr: 0.9793 - acc: 1.0000 - val_loss: 0.7503 - val_auc_pr: 0.9793 - val_acc: 0.8482\n",
      "Epoch 197/200\n",
      "25/24 [===============================] - 0s 7ms/step - loss: 2.7242e-04 - auc_pr: 0.9793 - acc: 1.0000 - val_loss: 1.0428 - val_auc_pr: 0.9793 - val_acc: 0.8429\n",
      "Epoch 198/200\n",
      "25/24 [===============================] - 0s 7ms/step - loss: 2.8381e-04 - auc_pr: 0.9793 - acc: 1.0000 - val_loss: 0.7483 - val_auc_pr: 0.9793 - val_acc: 0.8534\n",
      "Epoch 199/200\n",
      "25/24 [===============================] - 0s 7ms/step - loss: 2.7268e-04 - auc_pr: 0.9793 - acc: 1.0000 - val_loss: 0.9578 - val_auc_pr: 0.9793 - val_acc: 0.8455\n",
      "Epoch 200/200\n",
      "25/24 [===============================] - 0s 7ms/step - loss: 2.6164e-04 - auc_pr: 0.9793 - acc: 1.0000 - val_loss: 0.7966 - val_auc_pr: 0.9793 - val_acc: 0.8482\n",
      "382/382 [==============================] - 0s 69us/step\n",
      "\n",
      "\n",
      "[0.7966309670378401, 0.9791969769288108, 0.8481675398911481]\n"
     ]
    }
   ],
   "source": [
    "precision = as_keras_metric(tf.metrics.precision)\n",
    "recall = as_keras_metric(tf.metrics.recall)\n",
    "\n",
    "model.compile(optimizer=custom_adam,\n",
    "              loss='categorical_crossentropy',\n",
    "              metrics=[auc_pr, 'accuracy'])\n",
    "\n",
    "model.fit_generator(generator=batch_generator_shuffle(X_train, y_train, 32),\n",
    "                      epochs=200, validation_data=(X_valid, y_valid),\n",
    "                      steps_per_epoch=X_train.shape[0] / 32)\n",
    "\n",
    "scores = model.evaluate(X_valid, y_valid)\n",
    "print ('\\n')\n",
    "print (scores)"
   ]
  },
  {
   "cell_type": "markdown",
   "metadata": {},
   "source": [
    "7: val_loss: 0.3521 - val_auc_pr: 0.9775 - val_acc: 0.8922\n",
    "200: val_loss: 0.6366 - val_auc_pr: 0.9851 - val_acc: 0.8889\n",
    "\n",
    "[0.626494295846403, 0.983139782170065, 0.8856209134743884]"
   ]
  },
  {
   "cell_type": "code",
   "execution_count": 244,
   "metadata": {},
   "outputs": [],
   "source": [
    "X_test = test_data['TRANS_CONV_TEXT']\n",
    "X_test = preprocess_data(X_test, stemmer, lemma)\n",
    "X_test = vectorizer.transform(X_test).toarray()"
   ]
  },
  {
   "cell_type": "code",
   "execution_count": 265,
   "metadata": {},
   "outputs": [],
   "source": [
    "output = model.predict(X_test, 32)\n",
    "\n",
    "patient_tag = np.argmax(output, axis=1)\n",
    "index = list(range(1, len(output)+1))\n",
    "test_data_df = pd.DataFrame({'Index': index,'Patient_Tag': patient_tag}).set_index('Index')\n",
    "test_data_df.to_csv('output.csv', columns=['Patient_Tag'] )"
   ]
  },
  {
   "cell_type": "code",
   "execution_count": 266,
   "metadata": {},
   "outputs": [
    {
     "data": {
      "text/plain": [
       "0    490\n",
       "1     81\n",
       "Name: Patient_Tag, dtype: int64"
      ]
     },
     "execution_count": 266,
     "metadata": {},
     "output_type": "execute_result"
    }
   ],
   "source": [
    "test_data_df.Patient_Tag.value_counts()"
   ]
  },
  {
   "cell_type": "code",
   "execution_count": 260,
   "metadata": {},
   "outputs": [],
   "source": [
    "# model_json = model.to_json()\n",
    "# with open(OUTPUT_FOLDER + \"1_model.json\", \"w\") as json_file:\n",
    "#     json_file.write(model_json)\n",
    "\n",
    "# model.save_weights(OUTPUT_FOLDER + \"1_model.h5\")"
   ]
  }
 ],
 "metadata": {
  "kernelspec": {
   "display_name": "Python 3",
   "language": "python",
   "name": "python3"
  },
  "language_info": {
   "codemirror_mode": {
    "name": "ipython",
    "version": 3
   },
   "file_extension": ".py",
   "mimetype": "text/x-python",
   "name": "python",
   "nbconvert_exporter": "python",
   "pygments_lexer": "ipython3",
   "version": "3.5.2"
  }
 },
 "nbformat": 4,
 "nbformat_minor": 2
}
